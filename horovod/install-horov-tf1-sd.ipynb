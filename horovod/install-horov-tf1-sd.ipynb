{
 "cells": [
  {
   "cell_type": "markdown",
   "id": "179f5674-c98a-424f-95f0-2875c999f2bd",
   "metadata": {},
   "source": [
    "# Horovod Environment Setup\n",
    "\n",
    "*Last edited: 2023-12-23*"
   ]
  },
  {
   "cell_type": "markdown",
   "id": "33df9619-1bad-40f5-b424-a53160f664a1",
   "metadata": {},
   "source": [
    "- Horovod and TensorFlow instalation on SDumont.\n",
    "- This Notebook assumes that Miniconda3 is already installed."
   ]
  },
  {
   "cell_type": "code",
   "execution_count": 30,
   "id": "db4c213e-324f-464e-b48d-30d9c62a19e7",
   "metadata": {},
   "outputs": [
    {
     "name": "stdout",
     "output_type": "stream",
     "text": [
      "env: SCRA=/scratch/yyyy/xxxx\n",
      "env: SPWD=/scratch/yyyy/xxxx/horov-mnist\n",
      "env: DATA=/scratch/yyyy/xxxx/data/MNIST/raw\n"
     ]
    }
   ],
   "source": [
    "SCRA = ! SCRA=/scratch${HOME#/prj} && echo $SCRA\n",
    "SCRA = SCRA[0]\n",
    "%env SCRA {SCRA}"
   ]
  },
  {
   "cell_type": "code",
   "execution_count": 3,
   "id": "71b2b7da-99ec-49e4-bccf-3e5bdf6cbd1d",
   "metadata": {},
   "outputs": [
    {
     "name": "stdout",
     "output_type": "stream",
     "text": [
      "Overwriting /scratch/yyyy/xxxx/tfh01.yml\n"
     ]
    }
   ],
   "source": [
    "%%writefile {SCRA}/tfh01.yml\n",
    "name: tfh01\n",
    "channels:\n",
    "  - nvidia\n",
    "  - bokeh\n",
    "  - pytorch\n",
    "  - conda-forge\n",
    "  - defaults\n",
    "dependencies:\n",
    "  - python=3.7\n",
    "  - ipykernel\n",
    "  - cudatoolkit=10.0\n",
    "  - cupti=10.0\n",
    "  - nccl=2.8\n",
    "  - nvcc_linux-64=10.0\n",
    "  - protobuf=3.8\n",
    "  - libprotobuf=3.8\n",
    "  - tensorboard=1.15\n",
    "  - bokeh\n",
    "  - ccache\n",
    "  - mpi4py\n",
    "  - nodejs\n",
    "  - pip\n",
    "  - pip:\n",
    "    - tensorflow==1.15\n",
    "    - tensorflow-gpu==1.15\n",
    "    - tensorrt==8.5.3.1\n",
    "prefix: /scratch/yyyy/xxxx/miniconda3/envs/tfh01\n",
    "variables:\n",
    "  LD_LIBRARY_PATH: \"'$LD_LIBRARY_PATH:$CONDA_PREFIX/lib/'\"\n",
    "  XLA_FLAGS: \"'--xla_gpu_cuda_data_dir=$CONDA_PREFIX/lib/'\""
   ]
  },
  {
   "cell_type": "code",
   "execution_count": 4,
   "id": "17d1a1d6-c051-4193-bc92-f5cebd13d578",
   "metadata": {
    "scrolled": true
   },
   "outputs": [
    {
     "name": "stdout",
     "output_type": "stream",
     "text": [
      "Channels:\n",
      " - nvidia\n",
      " - bokeh\n",
      " - pytorch\n",
      " - conda-forge\n",
      " - defaults\n",
      "Platform: linux-64\n",
      "Collecting package metadata (repodata.json): ...working... done\n",
      "Solving environment: ...working... done\n",
      "\n",
      "Downloading and Extracting Packages: ...working... done\n",
      "Preparing transaction: ...working... done\n",
      "Verifying transaction: ...working... done\n",
      "Executing transaction: ...working... done\n",
      "Installing pip dependencies: ...working... Ran pip subprocess with arguments:\n",
      "['/scratch/yyyy/xxxx/miniconda3/envs/tfh01/bin/python', '-m', 'pip', 'install', '-U', '-r', '/scratch/yyyy/xxxx/condaenv.7fz58p6p.requirements.txt', '--exists-action=b']\n",
      "Pip subprocess output:\n",
      "Looking in indexes: https://pypi.org/simple, https://pypi.ngc.nvidia.com\n",
      "Collecting tensorflow==1.15 (from -r /scratch/yyyy/xxxx/condaenv.7fz58p6p.requirements.txt (line 1))\n",
      "  Downloading tensorflow-1.15.0-cp37-cp37m-manylinux2010_x86_64.whl (412.3 MB)\n",
      "\u001b[2K     \u001b[90m━━━━━━━━━━━━━━━━━━━━━━━━━━━━━━━━━━━━━━\u001b[0m \u001b[32m412.3/412.3 MB\u001b[0m \u001b[31m29.2 MB/s\u001b[0m eta \u001b[36m0:00:00\u001b[0m00:01\u001b[0m00:01\u001b[0m\n",
      "\u001b[?25hCollecting tensorflow-gpu==1.15 (from -r /scratch/yyyy/xxxx/condaenv.7fz58p6p.requirements.txt (line 2))\n",
      "  Downloading tensorflow_gpu-1.15.0-cp37-cp37m-manylinux2010_x86_64.whl (411.5 MB)\n",
      "\u001b[2K     \u001b[90m━━━━━━━━━━━━━━━━━━━━━━━━━━━━━━━━━━━━━\u001b[0m \u001b[32m411.5/411.5 MB\u001b[0m \u001b[31m168.8 MB/s\u001b[0m eta \u001b[36m0:00:00\u001b[0m00:01\u001b[0m00:01\u001b[0m\n",
      "\u001b[?25hCollecting tensorrt==8.5.3.1 (from -r /scratch/yyyy/xxxx/condaenv.7fz58p6p.requirements.txt (line 3))\n",
      "  Downloading tensorrt-8.5.3.1-cp37-none-manylinux_2_17_x86_64.whl (549.5 MB)\n",
      "\u001b[2K     \u001b[90m━━━━━━━━━━━━━━━━━━━━━━━━━━━━━━━━━━━━━\u001b[0m \u001b[32m549.5/549.5 MB\u001b[0m \u001b[31m181.7 MB/s\u001b[0m eta \u001b[36m0:00:00\u001b[0m00:01\u001b[0m00:01\u001b[0m\n",
      "\u001b[?25hRequirement already satisfied: absl-py>=0.7.0 in ./miniconda3/envs/tfh01/lib/python3.7/site-packages (from tensorflow==1.15->-r /scratch/yyyy/xxxx/condaenv.7fz58p6p.requirements.txt (line 1)) (2.0.0)\n",
      "Collecting astor>=0.6.0 (from tensorflow==1.15->-r /scratch/yyyy/xxxx/condaenv.7fz58p6p.requirements.txt (line 1))\n",
      "  Downloading astor-0.8.1-py2.py3-none-any.whl (27 kB)\n",
      "Collecting gast==0.2.2 (from tensorflow==1.15->-r /scratch/yyyy/xxxx/condaenv.7fz58p6p.requirements.txt (line 1))\n",
      "  Downloading gast-0.2.2.tar.gz (10 kB)\n",
      "  Preparing metadata (setup.py): started\n",
      "  Preparing metadata (setup.py): finished with status 'done'\n",
      "Collecting google-pasta>=0.1.6 (from tensorflow==1.15->-r /scratch/yyyy/xxxx/condaenv.7fz58p6p.requirements.txt (line 1))\n",
      "  Downloading google_pasta-0.2.0-py3-none-any.whl (57 kB)\n",
      "\u001b[2K     \u001b[90m━━━━━━━━━━━━━━━━━━━━━━━━━━━━━━━━━━━━━━━\u001b[0m \u001b[32m57.5/57.5 kB\u001b[0m \u001b[31m212.6 MB/s\u001b[0m eta \u001b[36m0:00:00\u001b[0m\n",
      "\u001b[?25hCollecting keras-applications>=1.0.8 (from tensorflow==1.15->-r /scratch/yyyy/xxxx/condaenv.7fz58p6p.requirements.txt (line 1))\n",
      "  Downloading Keras_Applications-1.0.8-py3-none-any.whl (50 kB)\n",
      "\u001b[2K     \u001b[90m━━━━━━━━━━━━━━━━━━━━━━━━━━━━━━━━━━━━━━━\u001b[0m \u001b[32m50.7/50.7 kB\u001b[0m \u001b[31m238.1 MB/s\u001b[0m eta \u001b[36m0:00:00\u001b[0m\n",
      "\u001b[?25hCollecting keras-preprocessing>=1.0.5 (from tensorflow==1.15->-r /scratch/yyyy/xxxx/condaenv.7fz58p6p.requirements.txt (line 1))\n",
      "  Downloading Keras_Preprocessing-1.1.2-py2.py3-none-any.whl (42 kB)\n",
      "\u001b[2K     \u001b[90m━━━━━━━━━━━━━━━━━━━━━━━━━━━━━━━━━━━━━━━\u001b[0m \u001b[32m42.6/42.6 kB\u001b[0m \u001b[31m215.5 MB/s\u001b[0m eta \u001b[36m0:00:00\u001b[0m\n",
      "\u001b[?25hRequirement already satisfied: numpy<2.0,>=1.16.0 in ./miniconda3/envs/tfh01/lib/python3.7/site-packages (from tensorflow==1.15->-r /scratch/yyyy/xxxx/condaenv.7fz58p6p.requirements.txt (line 1)) (1.21.6)\n",
      "Collecting opt-einsum>=2.3.2 (from tensorflow==1.15->-r /scratch/yyyy/xxxx/condaenv.7fz58p6p.requirements.txt (line 1))\n",
      "  Downloading opt_einsum-3.3.0-py3-none-any.whl (65 kB)\n",
      "\u001b[2K     \u001b[90m━━━━━━━━━━━━━━━━━━━━━━━━━━━━━━━━━━━━━━━\u001b[0m \u001b[32m65.5/65.5 kB\u001b[0m \u001b[31m246.7 MB/s\u001b[0m eta \u001b[36m0:00:00\u001b[0m\n",
      "\u001b[?25hRequirement already satisfied: six>=1.10.0 in ./miniconda3/envs/tfh01/lib/python3.7/site-packages (from tensorflow==1.15->-r /scratch/yyyy/xxxx/condaenv.7fz58p6p.requirements.txt (line 1)) (1.16.0)\n",
      "Requirement already satisfied: protobuf>=3.6.1 in ./miniconda3/envs/tfh01/lib/python3.7/site-packages (from tensorflow==1.15->-r /scratch/yyyy/xxxx/condaenv.7fz58p6p.requirements.txt (line 1)) (3.8.0)\n",
      "Requirement already satisfied: tensorboard<1.16.0,>=1.15.0 in ./miniconda3/envs/tfh01/lib/python3.7/site-packages (from tensorflow==1.15->-r /scratch/yyyy/xxxx/condaenv.7fz58p6p.requirements.txt (line 1)) (1.15.0)\n",
      "Collecting tensorflow-estimator==1.15.1 (from tensorflow==1.15->-r /scratch/yyyy/xxxx/condaenv.7fz58p6p.requirements.txt (line 1))\n",
      "  Downloading tensorflow_estimator-1.15.1-py2.py3-none-any.whl (503 kB)\n",
      "\u001b[2K     \u001b[90m━━━━━━━━━━━━━━━━━━━━━━━━━━━━━━━━━━━━━\u001b[0m \u001b[32m503.4/503.4 kB\u001b[0m \u001b[31m295.5 MB/s\u001b[0m eta \u001b[36m0:00:00\u001b[0m\n",
      "\u001b[?25hCollecting termcolor>=1.1.0 (from tensorflow==1.15->-r /scratch/yyyy/xxxx/condaenv.7fz58p6p.requirements.txt (line 1))\n",
      "  Downloading termcolor-2.3.0-py3-none-any.whl (6.9 kB)\n",
      "Collecting wrapt>=1.11.1 (from tensorflow==1.15->-r /scratch/yyyy/xxxx/condaenv.7fz58p6p.requirements.txt (line 1))\n",
      "  Downloading wrapt-1.16.0-cp37-cp37m-manylinux_2_5_x86_64.manylinux1_x86_64.manylinux_2_17_x86_64.manylinux2014_x86_64.whl.metadata (6.6 kB)\n",
      "Requirement already satisfied: grpcio>=1.8.6 in ./miniconda3/envs/tfh01/lib/python3.7/site-packages (from tensorflow==1.15->-r /scratch/yyyy/xxxx/condaenv.7fz58p6p.requirements.txt (line 1)) (1.46.3)\n",
      "Requirement already satisfied: wheel>=0.26 in ./miniconda3/envs/tfh01/lib/python3.7/site-packages (from tensorflow==1.15->-r /scratch/yyyy/xxxx/condaenv.7fz58p6p.requirements.txt (line 1)) (0.42.0)\n",
      "Collecting nvidia-cuda-runtime-cu11 (from tensorrt==8.5.3.1->-r /scratch/yyyy/xxxx/condaenv.7fz58p6p.requirements.txt (line 3))\n",
      "  Downloading https://developer.download.nvidia.com/compute/redist/nvidia-cuda-runtime-cu11/nvidia-cuda-runtime-cu11-2022.4.25.tar.gz (16 kB)\n",
      "  Preparing metadata (setup.py): started\n",
      "  Preparing metadata (setup.py): finished with status 'done'\n",
      "Collecting nvidia-cudnn-cu11 (from tensorrt==8.5.3.1->-r /scratch/yyyy/xxxx/condaenv.7fz58p6p.requirements.txt (line 3))\n",
      "  Downloading https://developer.download.nvidia.com/compute/redist/nvidia-cudnn-cu11/nvidia-cudnn-cu11-2022.5.19.tar.gz (16 kB)\n",
      "  Preparing metadata (setup.py): started\n",
      "  Preparing metadata (setup.py): finished with status 'done'\n",
      "Collecting nvidia-cublas-cu11 (from tensorrt==8.5.3.1->-r /scratch/yyyy/xxxx/condaenv.7fz58p6p.requirements.txt (line 3))\n",
      "  Downloading https://developer.download.nvidia.com/compute/redist/nvidia-cublas-cu11/nvidia-cublas-cu11-2022.4.8.tar.gz (16 kB)\n",
      "  Preparing metadata (setup.py): started\n",
      "  Preparing metadata (setup.py): finished with status 'done'\n",
      "Collecting h5py (from keras-applications>=1.0.8->tensorflow==1.15->-r /scratch/yyyy/xxxx/condaenv.7fz58p6p.requirements.txt (line 1))\n",
      "  Downloading h5py-3.8.0-cp37-cp37m-manylinux_2_17_x86_64.manylinux2014_x86_64.whl (4.3 MB)\n",
      "\u001b[2K     \u001b[90m━━━━━━━━━━━━━━━━━━━━━━━━━━━━━━━━━━━━━━━━\u001b[0m \u001b[32m4.3/4.3 MB\u001b[0m \u001b[31m163.6 MB/s\u001b[0m eta \u001b[36m0:00:00\u001b[0m\n",
      "\u001b[?25hRequirement already satisfied: setuptools in ./miniconda3/envs/tfh01/lib/python3.7/site-packages (from protobuf>=3.6.1->tensorflow==1.15->-r /scratch/yyyy/xxxx/condaenv.7fz58p6p.requirements.txt (line 1)) (68.2.2)\n",
      "Requirement already satisfied: markdown>=2.6.8 in ./miniconda3/envs/tfh01/lib/python3.7/site-packages (from tensorboard<1.16.0,>=1.15.0->tensorflow==1.15->-r /scratch/yyyy/xxxx/condaenv.7fz58p6p.requirements.txt (line 1)) (3.5.1)\n",
      "Requirement already satisfied: werkzeug>=0.11.15 in ./miniconda3/envs/tfh01/lib/python3.7/site-packages (from tensorboard<1.16.0,>=1.15.0->tensorflow==1.15->-r /scratch/yyyy/xxxx/condaenv.7fz58p6p.requirements.txt (line 1)) (2.2.3)\n",
      "Collecting nvidia-cublas-cu117 (from nvidia-cublas-cu11->tensorrt==8.5.3.1->-r /scratch/yyyy/xxxx/condaenv.7fz58p6p.requirements.txt (line 3))\n",
      "  Downloading https://developer.download.nvidia.com/compute/redist/nvidia-cublas-cu117/nvidia_cublas_cu117-11.10.1.25-py3-none-manylinux1_x86_64.whl (333.1 MB)\n",
      "\u001b[2K     \u001b[90m━━━━━━━━━━━━━━━━━━━━━━━━━━━━━━━━━━━━━\u001b[0m \u001b[32m333.1/333.1 MB\u001b[0m \u001b[31m206.9 MB/s\u001b[0m eta \u001b[36m0:00:00\u001b[0m00:01\u001b[0m00:01\u001b[0m\n",
      "\u001b[?25hCollecting nvidia-cuda-runtime-cu117 (from nvidia-cuda-runtime-cu11->tensorrt==8.5.3.1->-r /scratch/yyyy/xxxx/condaenv.7fz58p6p.requirements.txt (line 3))\n",
      "  Downloading https://developer.download.nvidia.com/compute/redist/nvidia-cuda-runtime-cu117/nvidia_cuda_runtime_cu117-11.7.60-py3-none-manylinux1_x86_64.whl (849 kB)\n",
      "\u001b[2K     \u001b[90m━━━━━━━━━━━━━━━━━━━━━━━━━━━━━━━━━━━━━\u001b[0m \u001b[32m849.3/849.3 kB\u001b[0m \u001b[31m298.3 MB/s\u001b[0m eta \u001b[36m0:00:00\u001b[0m\n",
      "\u001b[?25hCollecting nvidia-cudnn-cu116 (from nvidia-cudnn-cu11->tensorrt==8.5.3.1->-r /scratch/yyyy/xxxx/condaenv.7fz58p6p.requirements.txt (line 3))\n",
      "  Downloading https://developer.download.nvidia.com/compute/redist/nvidia-cudnn-cu116/nvidia_cudnn_cu116-8.4.0.27-py3-none-manylinux1_x86_64.whl (719.3 MB)\n",
      "\u001b[2K     \u001b[90m━━━━━━━━━━━━━━━━━━━━━━━━━━━━━━━━━━━━━\u001b[0m \u001b[32m719.3/719.3 MB\u001b[0m \u001b[31m107.6 MB/s\u001b[0m eta \u001b[36m0:00:00\u001b[0m00:01\u001b[0m00:01\u001b[0m\n",
      "\u001b[?25hRequirement already satisfied: importlib-metadata>=4.4 in ./miniconda3/envs/tfh01/lib/python3.7/site-packages (from markdown>=2.6.8->tensorboard<1.16.0,>=1.15.0->tensorflow==1.15->-r /scratch/yyyy/xxxx/condaenv.7fz58p6p.requirements.txt (line 1)) (4.11.4)\n",
      "Requirement already satisfied: MarkupSafe>=2.1.1 in ./miniconda3/envs/tfh01/lib/python3.7/site-packages (from werkzeug>=0.11.15->tensorboard<1.16.0,>=1.15.0->tensorflow==1.15->-r /scratch/yyyy/xxxx/condaenv.7fz58p6p.requirements.txt (line 1)) (2.1.1)\n",
      "Requirement already satisfied: zipp>=0.5 in ./miniconda3/envs/tfh01/lib/python3.7/site-packages (from importlib-metadata>=4.4->markdown>=2.6.8->tensorboard<1.16.0,>=1.15.0->tensorflow==1.15->-r /scratch/yyyy/xxxx/condaenv.7fz58p6p.requirements.txt (line 1)) (3.15.0)\n",
      "Requirement already satisfied: typing-extensions>=3.6.4 in ./miniconda3/envs/tfh01/lib/python3.7/site-packages (from importlib-metadata>=4.4->markdown>=2.6.8->tensorboard<1.16.0,>=1.15.0->tensorflow==1.15->-r /scratch/yyyy/xxxx/condaenv.7fz58p6p.requirements.txt (line 1)) (4.7.1)\n",
      "Downloading wrapt-1.16.0-cp37-cp37m-manylinux_2_5_x86_64.manylinux1_x86_64.manylinux_2_17_x86_64.manylinux2014_x86_64.whl (77 kB)\n",
      "\u001b[2K   \u001b[90m━━━━━━━━━━━━━━━━━━━━━━━━━━━━━━━━━━━━━━━━\u001b[0m \u001b[32m77.5/77.5 kB\u001b[0m \u001b[31m221.8 MB/s\u001b[0m eta \u001b[36m0:00:00\u001b[0m\n",
      "\u001b[?25hBuilding wheels for collected packages: gast, nvidia-cublas-cu11, nvidia-cuda-runtime-cu11, nvidia-cudnn-cu11\n",
      "  Building wheel for gast (setup.py): started\n",
      "  Building wheel for gast (setup.py): finished with status 'done'\n",
      "  Created wheel for gast: filename=gast-0.2.2-py3-none-any.whl size=7537 sha256=6790e3cf10068ec94c766442157888ce55139d13506f6b730822db06ba4c06ba\n",
      "  Stored in directory: /tmp/pip-ephem-wheel-cache-pv1pj8n2/wheels/21/7f/02/420f32a803f7d0967b48dd823da3f558c5166991bfd204eef3\n",
      "  Building wheel for nvidia-cublas-cu11 (setup.py): started\n",
      "  Building wheel for nvidia-cublas-cu11 (setup.py): finished with status 'done'\n",
      "  Created wheel for nvidia-cublas-cu11: filename=nvidia_cublas_cu11-2022.4.8-py3-none-any.whl size=15605 sha256=6f4d4b39640e62bb7e411d9d92e2a241016ca5af7eea2835256f1c7f1e580590\n",
      "  Stored in directory: /tmp/pip-ephem-wheel-cache-pv1pj8n2/wheels/e2/c3/94/1ffd5bac267cfdc2b222a4ec6915278ef18a028a916b9a5ac3\n",
      "  Building wheel for nvidia-cuda-runtime-cu11 (setup.py): started\n",
      "  Building wheel for nvidia-cuda-runtime-cu11 (setup.py): finished with status 'done'\n",
      "  Created wheel for nvidia-cuda-runtime-cu11: filename=nvidia_cuda_runtime_cu11-2022.4.25-py3-none-any.whl size=15677 sha256=8c2d28d24bf8b83ac9234608c41c6233eb137127a158390f38f965decf756c3a\n",
      "  Stored in directory: /tmp/pip-ephem-wheel-cache-pv1pj8n2/wheels/df/fe/2b/e553db7867508b2268b14ac194e9ac5b3f51f21316c282c96c\n",
      "  Building wheel for nvidia-cudnn-cu11 (setup.py): started\n",
      "  Building wheel for nvidia-cudnn-cu11 (setup.py): finished with status 'done'\n",
      "  Created wheel for nvidia-cudnn-cu11: filename=nvidia_cudnn_cu11-2022.5.19-py3-none-any.whl size=15599 sha256=a12dd09d8df3fff3b099d1e4b2a9d1c9898741f070847ddc23e1dbb8a64c0e69\n",
      "  Stored in directory: /tmp/pip-ephem-wheel-cache-pv1pj8n2/wheels/7c/32/69/9787704b5f889217708864db5e00812c8c1c349ef89084c59c\n",
      "Successfully built gast nvidia-cublas-cu11 nvidia-cuda-runtime-cu11 nvidia-cudnn-cu11\n",
      "Installing collected packages: tensorflow-estimator, wrapt, termcolor, opt-einsum, nvidia-cudnn-cu116, nvidia-cuda-runtime-cu117, nvidia-cublas-cu117, keras-preprocessing, h5py, google-pasta, gast, astor, nvidia-cudnn-cu11, nvidia-cuda-runtime-cu11, nvidia-cublas-cu11, keras-applications, tensorrt, tensorflow-gpu, tensorflow\n",
      "Successfully installed astor-0.8.1 gast-0.2.2 google-pasta-0.2.0 h5py-3.8.0 keras-applications-1.0.8 keras-preprocessing-1.1.2 nvidia-cublas-cu11-2022.4.8 nvidia-cublas-cu117-11.10.1.25 nvidia-cuda-runtime-cu11-2022.4.25 nvidia-cuda-runtime-cu117-11.7.60 nvidia-cudnn-cu11-2022.5.19 nvidia-cudnn-cu116-8.4.0.27 opt-einsum-3.3.0 tensorflow-1.15.0 tensorflow-estimator-1.15.1 tensorflow-gpu-1.15.0 tensorrt-8.5.3.1 termcolor-2.3.0 wrapt-1.16.0\n",
      "\n",
      "done\n",
      "#\n",
      "# To activate this environment, use\n",
      "#\n",
      "#     $ conda activate tfh01\n",
      "#\n",
      "# To deactivate an active environment, use\n",
      "#\n",
      "#     $ conda deactivate\n",
      "\n"
     ]
    }
   ],
   "source": [
    "%%bash\n",
    "source /scratch/yyyy/xxxx/miniconda3/bin/activate\n",
    "conda env create -f /scratch/yyyy/xxxx/tfh01.yml --force"
   ]
  },
  {
   "cell_type": "markdown",
   "id": "f00809b4-da93-40d7-8521-0887511728bb",
   "metadata": {},
   "source": [
    "- It is necessary to edit the file *.../miniconda3/envs/tfh01/lib/python3.7/shutil.py*, comment the line *copystat(src, dst)* and add *pass*. E.g.: \"pass # copystat(src, dst)\"."
   ]
  },
  {
   "cell_type": "code",
   "execution_count": 3,
   "id": "f26c7488-f02e-4d82-8887-413b3679acab",
   "metadata": {},
   "outputs": [
    {
     "name": "stderr",
     "output_type": "stream",
     "text": [
      "WARNING: overwriting environment variables set in the machine\n",
      "overwriting variable ['LD_LIBRARY_PATH']\n"
     ]
    }
   ],
   "source": [
    "%%bash\n",
    "source /scratch/yyyy/xxxx/miniconda3/bin/activate\n",
    "conda activate tfh01\n",
    "ipython kernel install --user --name tfh01"
   ]
  },
  {
   "cell_type": "code",
   "execution_count": 2,
   "id": "53ce4ebb-5fb2-4f31-a38a-a947197368b1",
   "metadata": {},
   "outputs": [
    {
     "name": "stderr",
     "output_type": "stream",
     "text": [
      "0.00s - Debugger warning: It seems that frozen modules are being used, which may\n",
      "0.00s - make the debugger miss breakpoints. Please pass -Xfrozen_modules=off\n",
      "0.00s - to python to disable frozen modules.\n",
      "0.00s - Note: Debugging will proceed. Set PYDEVD_DISABLE_FILE_VALIDATION=1 to disable this validation.\n"
     ]
    },
    {
     "name": "stdout",
     "output_type": "stream",
     "text": [
      "Available kernels:\n",
      "  tfh01      /prj/yyyy/xxxx/.local/share/jupyter/kernels/tfh01\n",
      "  python3    /scratch/yyyy/xxxx/miniconda3/share/jupyter/kernels/python3\n"
     ]
    }
   ],
   "source": [
    "%%bash\n",
    "source /scratch/yyyy/xxxx/miniconda3/bin/activate\n",
    "jupyter kernelspec list"
   ]
  },
  {
   "cell_type": "markdown",
   "id": "5fc07898-12cd-4460-87e1-460b246698a5",
   "metadata": {},
   "source": [
    "- It appears as \"/prj\" but in the json it is as \"/scratch\":"
   ]
  },
  {
   "cell_type": "code",
   "execution_count": 3,
   "id": "71a2a6ee-3da0-4768-9f34-c1144b615ca4",
   "metadata": {},
   "outputs": [
    {
     "name": "stdout",
     "output_type": "stream",
     "text": [
      "{\n",
      " \"argv\": [\n",
      "  \"/scratch/yyyy/xxxx/miniconda3/envs/tfh01/bin/python\",\n",
      "  \"-m\",\n",
      "  \"ipykernel_launcher\",\n",
      "  \"-f\",\n",
      "  \"{connection_file}\"\n",
      " ],\n",
      " \"display_name\": \"tfh01\",\n",
      " \"language\": \"python\",\n",
      " \"metadata\": {\n",
      "  \"debugger\": true\n",
      " }\n",
      "}"
     ]
    }
   ],
   "source": [
    "! cat /prj/yyyy/xxxx/.local/share/jupyter/kernels/tfh01/kernel.json"
   ]
  },
  {
   "cell_type": "code",
   "execution_count": 5,
   "id": "c7c24e7f-ce3d-45ad-bff8-268a92983202",
   "metadata": {},
   "outputs": [
    {
     "name": "stderr",
     "output_type": "stream",
     "text": [
      "WARNING: overwriting environment variables set in the machine\n",
      "overwriting variable ['LD_LIBRARY_PATH']\n"
     ]
    }
   ],
   "source": [
    "%%bash\n",
    "BASE=/scratch/yyyy/xxxx/miniconda3\n",
    "PYT=3.7\n",
    "ENV=tfh01\n",
    "source /scratch/yyyy/xxxx/miniconda3/bin/activate\n",
    "conda activate $ENV\n",
    "rm -f $BASE/envs/$ENV/lib/libnvinfer.so.7 $BASE/envs/$ENV/lib/libnvinfer_plugin.so.7\n",
    "ln -s $BASE/envs/$ENV/lib/python$PYT/site-packages/tensorrt/libnvinfer.so.8 \\\n",
    "    $BASE/envs/$ENV/lib/libnvinfer.so.7\n",
    "ln -s $BASE/envs/$ENV/lib/python$PYT/site-packages/tensorrt/libnvinfer_plugin.so.8 \\\n",
    "    $BASE/envs/$ENV/lib/libnvinfer_plugin.so.7"
   ]
  },
  {
   "cell_type": "code",
   "execution_count": 6,
   "id": "b9e722a6-bb57-484b-9ab9-cce46951e304",
   "metadata": {
    "scrolled": true
   },
   "outputs": [
    {
     "name": "stderr",
     "output_type": "stream",
     "text": [
      "WARNING: overwriting environment variables set in the machine\n",
      "overwriting variable ['LD_LIBRARY_PATH']\n"
     ]
    },
    {
     "name": "stdout",
     "output_type": "stream",
     "text": [
      "Looking in indexes: https://pypi.org/simple, https://pypi.ngc.nvidia.com\n",
      "Collecting horovod[tensorflow]\n",
      "  Downloading horovod-0.28.1.tar.gz (3.5 MB)\n",
      "\u001b[2K     \u001b[90m━━━━━━━━━━━━━━━━━━━━━━━━━━━━━━━━━━━━━━━━\u001b[0m \u001b[32m3.5/3.5 MB\u001b[0m \u001b[31m55.5 MB/s\u001b[0m eta \u001b[36m0:00:00\u001b[0ma \u001b[36m0:00:01\u001b[0m\n",
      "\u001b[?25h  Preparing metadata (setup.py): started\n",
      "  Preparing metadata (setup.py): finished with status 'done'\n",
      "Collecting cloudpickle (from horovod[tensorflow])\n",
      "  Downloading cloudpickle-2.2.1-py3-none-any.whl (25 kB)\n",
      "Requirement already satisfied: psutil in /scratch/yyyy/xxxx/miniconda3/envs/tfh01/lib/python3.7/site-packages (from horovod[tensorflow]) (5.9.3)\n",
      "Requirement already satisfied: pyyaml in /scratch/yyyy/xxxx/miniconda3/envs/tfh01/lib/python3.7/site-packages (from horovod[tensorflow]) (6.0)\n",
      "Requirement already satisfied: packaging in /scratch/yyyy/xxxx/miniconda3/envs/tfh01/lib/python3.7/site-packages (from horovod[tensorflow]) (23.2)\n",
      "Requirement already satisfied: tensorflow in /scratch/yyyy/xxxx/miniconda3/envs/tfh01/lib/python3.7/site-packages (from horovod[tensorflow]) (1.15.0)\n",
      "Requirement already satisfied: absl-py>=0.7.0 in /scratch/yyyy/xxxx/miniconda3/envs/tfh01/lib/python3.7/site-packages (from tensorflow->horovod[tensorflow]) (2.0.0)\n",
      "Requirement already satisfied: astor>=0.6.0 in /scratch/yyyy/xxxx/miniconda3/envs/tfh01/lib/python3.7/site-packages (from tensorflow->horovod[tensorflow]) (0.8.1)\n",
      "Requirement already satisfied: gast==0.2.2 in /scratch/yyyy/xxxx/miniconda3/envs/tfh01/lib/python3.7/site-packages (from tensorflow->horovod[tensorflow]) (0.2.2)\n",
      "Requirement already satisfied: google-pasta>=0.1.6 in /scratch/yyyy/xxxx/miniconda3/envs/tfh01/lib/python3.7/site-packages (from tensorflow->horovod[tensorflow]) (0.2.0)\n",
      "Requirement already satisfied: keras-applications>=1.0.8 in /scratch/yyyy/xxxx/miniconda3/envs/tfh01/lib/python3.7/site-packages (from tensorflow->horovod[tensorflow]) (1.0.8)\n",
      "Requirement already satisfied: keras-preprocessing>=1.0.5 in /scratch/yyyy/xxxx/miniconda3/envs/tfh01/lib/python3.7/site-packages (from tensorflow->horovod[tensorflow]) (1.1.2)\n",
      "Requirement already satisfied: numpy<2.0,>=1.16.0 in /scratch/yyyy/xxxx/miniconda3/envs/tfh01/lib/python3.7/site-packages (from tensorflow->horovod[tensorflow]) (1.21.6)\n",
      "Requirement already satisfied: opt-einsum>=2.3.2 in /scratch/yyyy/xxxx/miniconda3/envs/tfh01/lib/python3.7/site-packages (from tensorflow->horovod[tensorflow]) (3.3.0)\n",
      "Requirement already satisfied: six>=1.10.0 in /scratch/yyyy/xxxx/miniconda3/envs/tfh01/lib/python3.7/site-packages (from tensorflow->horovod[tensorflow]) (1.16.0)\n",
      "Requirement already satisfied: protobuf>=3.6.1 in /scratch/yyyy/xxxx/miniconda3/envs/tfh01/lib/python3.7/site-packages (from tensorflow->horovod[tensorflow]) (3.8.0)\n",
      "Requirement already satisfied: tensorboard<1.16.0,>=1.15.0 in /scratch/yyyy/xxxx/miniconda3/envs/tfh01/lib/python3.7/site-packages (from tensorflow->horovod[tensorflow]) (1.15.0)\n",
      "Requirement already satisfied: tensorflow-estimator==1.15.1 in /scratch/yyyy/xxxx/miniconda3/envs/tfh01/lib/python3.7/site-packages (from tensorflow->horovod[tensorflow]) (1.15.1)\n",
      "Requirement already satisfied: termcolor>=1.1.0 in /scratch/yyyy/xxxx/miniconda3/envs/tfh01/lib/python3.7/site-packages (from tensorflow->horovod[tensorflow]) (2.3.0)\n",
      "Requirement already satisfied: wrapt>=1.11.1 in /scratch/yyyy/xxxx/miniconda3/envs/tfh01/lib/python3.7/site-packages (from tensorflow->horovod[tensorflow]) (1.16.0)\n",
      "Requirement already satisfied: grpcio>=1.8.6 in /scratch/yyyy/xxxx/miniconda3/envs/tfh01/lib/python3.7/site-packages (from tensorflow->horovod[tensorflow]) (1.46.3)\n",
      "Requirement already satisfied: wheel>=0.26 in /scratch/yyyy/xxxx/miniconda3/envs/tfh01/lib/python3.7/site-packages (from tensorflow->horovod[tensorflow]) (0.42.0)\n",
      "Requirement already satisfied: h5py in /scratch/yyyy/xxxx/miniconda3/envs/tfh01/lib/python3.7/site-packages (from keras-applications>=1.0.8->tensorflow->horovod[tensorflow]) (3.8.0)\n",
      "Requirement already satisfied: setuptools in /scratch/yyyy/xxxx/miniconda3/envs/tfh01/lib/python3.7/site-packages (from protobuf>=3.6.1->tensorflow->horovod[tensorflow]) (68.2.2)\n",
      "Requirement already satisfied: markdown>=2.6.8 in /scratch/yyyy/xxxx/miniconda3/envs/tfh01/lib/python3.7/site-packages (from tensorboard<1.16.0,>=1.15.0->tensorflow->horovod[tensorflow]) (3.5.1)\n",
      "Requirement already satisfied: werkzeug>=0.11.15 in /scratch/yyyy/xxxx/miniconda3/envs/tfh01/lib/python3.7/site-packages (from tensorboard<1.16.0,>=1.15.0->tensorflow->horovod[tensorflow]) (2.2.3)\n",
      "Requirement already satisfied: importlib-metadata>=4.4 in /scratch/yyyy/xxxx/miniconda3/envs/tfh01/lib/python3.7/site-packages (from markdown>=2.6.8->tensorboard<1.16.0,>=1.15.0->tensorflow->horovod[tensorflow]) (4.11.4)\n",
      "Requirement already satisfied: MarkupSafe>=2.1.1 in /scratch/yyyy/xxxx/miniconda3/envs/tfh01/lib/python3.7/site-packages (from werkzeug>=0.11.15->tensorboard<1.16.0,>=1.15.0->tensorflow->horovod[tensorflow]) (2.1.1)\n",
      "Requirement already satisfied: zipp>=0.5 in /scratch/yyyy/xxxx/miniconda3/envs/tfh01/lib/python3.7/site-packages (from importlib-metadata>=4.4->markdown>=2.6.8->tensorboard<1.16.0,>=1.15.0->tensorflow->horovod[tensorflow]) (3.15.0)\n",
      "Requirement already satisfied: typing-extensions>=3.6.4 in /scratch/yyyy/xxxx/miniconda3/envs/tfh01/lib/python3.7/site-packages (from importlib-metadata>=4.4->markdown>=2.6.8->tensorboard<1.16.0,>=1.15.0->tensorflow->horovod[tensorflow]) (4.7.1)\n",
      "Building wheels for collected packages: horovod\n",
      "  Building wheel for horovod (setup.py): started\n",
      "  Building wheel for horovod (setup.py): still running...\n",
      "  Building wheel for horovod (setup.py): finished with status 'done'\n",
      "  Created wheel for horovod: filename=horovod-0.28.1-cp37-cp37m-linux_x86_64.whl size=10457374 sha256=3d6403c208ea02fefee3e20de1c0fea348395fcb9e1208daca0d516414d47e2c\n",
      "  Stored in directory: /tmp/pip-ephem-wheel-cache-x9rxxwqa/wheels/75/bf/bf/1131c00d74352837272d3a176b5c32ed602a4010137cbbbd72\n",
      "Successfully built horovod\n",
      "Installing collected packages: cloudpickle, horovod\n",
      "Successfully installed cloudpickle-2.2.1 horovod-0.28.1\n"
     ]
    }
   ],
   "source": [
    "%%bash\n",
    "source /scratch/yyyy/xxxx/miniconda3/bin/activate\n",
    "conda activate tfh01\n",
    "export HOROVOD_CUDA_HOME=/usr/local/cuda-10.0\n",
    "export HOROVOD_NCCL_INCLUDE=/scratch/yyyy/xxxx/miniconda3/envs/tfh01/include\n",
    "export HOROVOD_NCCL_LIB=/scratch/yyyy/xxxx/miniconda3/envs/tfh01/lib\n",
    "export NCCL_INCLUDE_DIR=/scratch/yyyy/xxxx/miniconda3/envs/tfh01/include\n",
    "export NCCL_LIBRARY=/scratch/yyyy/xxxx/miniconda3/envs/tfh01/lib\n",
    "export HOROVOD_GPU_OPERATIONS=NCCL\n",
    "export HOROVOD_WITH_MPI=1\n",
    "export HOROVOD_WITH_TENSORFLOW=1\n",
    "#export HOROVOD_WITH_PYTORCH=1\n",
    "#export HOROVOD_WITHOUT_TENSORFLOW=1\n",
    "export HOROVOD_WITHOUT_PYTORCH=1\n",
    "export HOROVOD_WITHOUT_MXNET=1\n",
    "export HOROVOD_WITHOUT_GLOO=1\n",
    "pip install --no-binary=horovod --no-cache-dir horovod[tensorflow] "
   ]
  },
  {
   "cell_type": "code",
   "execution_count": 4,
   "id": "bb7f7695-4eb9-4403-af13-57ab3246862f",
   "metadata": {},
   "outputs": [
    {
     "name": "stderr",
     "output_type": "stream",
     "text": [
      "WARNING: overwriting environment variables set in the machine\n",
      "overwriting variable ['LD_LIBRARY_PATH']\n",
      "2023-12-23 10:11:52.886324: I tensorflow/stream_executor/platform/default/dso_loader.cc:44] Successfully opened dynamic library libcudart.so.10.0\n",
      "2023-12-23 10:11:55.075080: I tensorflow/stream_executor/platform/default/dso_loader.cc:44] Successfully opened dynamic library libcudart.so.10.0\n",
      "2023-12-23 10:11:56.812352: I tensorflow/stream_executor/platform/default/dso_loader.cc:44] Successfully opened dynamic library libcudart.so.10.0\n",
      "2023-12-23 10:11:58.570298: I tensorflow/stream_executor/platform/default/dso_loader.cc:44] Successfully opened dynamic library libcudart.so.10.0\n",
      "2023-12-23 10:12:00.310445: I tensorflow/stream_executor/platform/default/dso_loader.cc:44] Successfully opened dynamic library libcudart.so.10.0\n",
      "2023-12-23 10:12:02.128233: I tensorflow/stream_executor/platform/default/dso_loader.cc:44] Successfully opened dynamic library libcudart.so.10.0\n"
     ]
    },
    {
     "name": "stdout",
     "output_type": "stream",
     "text": [
      "Horovod v0.28.1:\n",
      "\n",
      "Available Frameworks:\n",
      "    [X] TensorFlow\n",
      "    [X] PyTorch\n",
      "    [ ] MXNet\n",
      "\n",
      "Available Controllers:\n",
      "    [X] MPI\n",
      "    [ ] Gloo\n",
      "\n",
      "Available Tensor Operations:\n",
      "    [X] NCCL\n",
      "    [ ] DDL\n",
      "    [ ] CCL\n",
      "    [X] MPI\n",
      "    [ ] Gloo    \n"
     ]
    }
   ],
   "source": [
    "%%bash\n",
    "source /scratch/yyyy/xxxx/miniconda3/bin/activate\n",
    "conda activate tfh01\n",
    "horovodrun --check-build"
   ]
  },
  {
   "cell_type": "code",
   "execution_count": 5,
   "id": "33f0a7ac-8c72-46cb-af77-7b391da3073b",
   "metadata": {},
   "outputs": [
    {
     "name": "stdout",
     "output_type": "stream",
     "text": [
      "# conda environments:\n",
      "#\n",
      "                         /prj/yyyy/xxxx/miniconda3\n",
      "base                  *  /scratch/yyyy/xxxx/miniconda3\n",
      "tfh01                    /scratch/yyyy/xxxx/miniconda3/envs/tfh01\n",
      "\n"
     ]
    }
   ],
   "source": [
    "! conda env list"
   ]
  },
  {
   "cell_type": "code",
   "execution_count": 6,
   "id": "316f1d78-b217-4f12-9217-2ee9472ccd81",
   "metadata": {},
   "outputs": [
    {
     "name": "stdout",
     "output_type": "stream",
     "text": [
      "Available kernels:\n",
      "  tfh01      /prj/yyyy/xxxx/.local/share/jupyter/kernels/tfh01\n",
      "  python3    /scratch/yyyy/xxxx/miniconda3/share/jupyter/kernels/python3\n"
     ]
    }
   ],
   "source": [
    "%%bash\n",
    "export PYDEVD_DISABLE_FILE_VALIDATION=1\n",
    "jupyter kernelspec list"
   ]
  }
 ],
 "metadata": {
  "kernelspec": {
   "display_name": "Python 3 (ipykernel)",
   "language": "python",
   "name": "python3"
  },
  "language_info": {
   "codemirror_mode": {
    "name": "ipython",
    "version": 3
   },
   "file_extension": ".py",
   "mimetype": "text/x-python",
   "name": "python",
   "nbconvert_exporter": "python",
   "pygments_lexer": "ipython3",
   "version": "3.11.5"
  }
 },
 "nbformat": 4,
 "nbformat_minor": 5
}
