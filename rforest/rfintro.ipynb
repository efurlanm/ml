{
 "cells": [
  {
   "cell_type": "markdown",
   "metadata": {},
   "source": [
    "# RF Intro\n",
    "\n",
    "* Based on: https://blogs.oracle.com/ai-and-datascience/post/an-introduction-to-building-a-classification-model-using-random-forests-in-python\n",
    "* Dataset from: https://archive.ics.uci.edu/ml/datasets/Autistic+Spectrum+Disorder+Screening+Data+for+Adolescent+++\n",
    "* Dataset info converted do markdown: https://github.com/efurlanm/ml/blob/master/datasets/Autism-Adolescent-Data_description.md"
   ]
  },
  {
   "cell_type": "markdown",
   "metadata": {},
   "source": [
    "---------------------------------------------------------------------------"
   ]
  },
  {
   "cell_type": "markdown",
   "metadata": {},
   "source": [
    "## Load Python packages"
   ]
  },
  {
   "cell_type": "code",
   "execution_count": 2,
   "metadata": {},
   "outputs": [],
   "source": [
    "from sklearn.ensemble import RandomForestClassifier\n",
    "import numpy as np\n",
    "from sklearn.model_selection import train_test_split\n",
    "from scipy.io import arff\n",
    "import pandas as pd"
   ]
  },
  {
   "cell_type": "markdown",
   "metadata": {},
   "source": [
    "## Pre-Process the data"
   ]
  },
  {
   "cell_type": "code",
   "execution_count": 3,
   "metadata": {},
   "outputs": [
    {
     "data": {
      "text/plain": [
       "Dataset: adolescent\n",
       "\tA1_Score's type is nominal, range is ('0', '1')\n",
       "\tA2_Score's type is nominal, range is ('0', '1')\n",
       "\tA3_Score's type is nominal, range is ('0', '1')\n",
       "\tA4_Score's type is nominal, range is ('0', '1')\n",
       "\tA5_Score's type is nominal, range is ('0', '1')\n",
       "\tA6_Score's type is nominal, range is ('0', '1')\n",
       "\tA7_Score's type is nominal, range is ('0', '1')\n",
       "\tA8_Score's type is nominal, range is ('0', '1')\n",
       "\tA9_Score's type is nominal, range is ('0', '1')\n",
       "\tA10_Score's type is nominal, range is ('0', '1')\n",
       "\tage's type is numeric\n",
       "\tgender's type is nominal, range is ('m', 'f')\n",
       "\tethnicity's type is nominal, range is ('Hispanic', 'Black', 'White-European', 'Middle Eastern ', 'South Asian', 'Others', 'Latino', 'Asian')\n",
       "\tjundice's type is nominal, range is ('yes', 'no')\n",
       "\taustim's type is nominal, range is ('yes', 'no')\n",
       "\tcontry_of_res's type is nominal, range is ('Austria', 'AmericanSamoa', 'United Kingdom', 'Albania', 'Belgium', 'Afghanistan', 'Australia', 'Bahrain', 'Azerbaijan', 'United Arab Emirates', 'New Zealand', 'United States', 'Argentina', 'Jordan', 'Canada', 'Brazil', 'Croatia', 'India', 'Bangladesh', 'France', 'Indonesia', 'Egypt', 'Netherlands', 'Greenland', 'Bahamas', 'South Africa', 'Viet Nam', 'Comoros', 'Portugal', 'Finland', 'Norway', 'Ireland', 'Anguilla')\n",
       "\tused_app_before's type is nominal, range is ('no', 'yes')\n",
       "\tresult's type is numeric\n",
       "\tage_desc's type is nominal, range is ('12-16 years', '12-15 years')\n",
       "\trelation's type is nominal, range is ('Parent', 'Relative', 'Self', 'Health care professional', 'Others')\n",
       "\tClass/ASD's type is nominal, range is ('NO', 'YES')"
      ]
     },
     "execution_count": 3,
     "metadata": {},
     "output_type": "execute_result"
    }
   ],
   "source": [
    "data = arff.loadarff('datasets/Autism-Adolescent-Data.arff')\n",
    "data[1]"
   ]
  },
  {
   "cell_type": "code",
   "execution_count": 7,
   "metadata": {},
   "outputs": [
    {
     "data": {
      "text/plain": [
       "array([(b'0', b'0', b'0', b'1', b'1', b'1', b'1', b'1', b'1', b'0', 15., b'm', b'Hispanic', b'yes', b'yes', b'Austria', b'no', 6., b'12-16 years', b'Parent', b'NO'),\n",
       "       (b'0', b'0', b'0', b'0', b'0', b'0', b'0', b'0', b'1', b'1', 15., b'm', b'Black', b'no', b'no', b'Austria', b'no', 2., b'12-16 years', b'Relative', b'NO')],\n",
       "      dtype=[('A1_Score', 'S1'), ('A2_Score', 'S1'), ('A3_Score', 'S1'), ('A4_Score', 'S1'), ('A5_Score', 'S1'), ('A6_Score', 'S1'), ('A7_Score', 'S1'), ('A8_Score', 'S1'), ('A9_Score', 'S1'), ('A10_Score', 'S1'), ('age', '<f8'), ('gender', 'S1'), ('ethnicity', 'S15'), ('jundice', 'S3'), ('austim', 'S3'), ('contry_of_res', 'S20'), ('used_app_before', 'S3'), ('result', '<f8'), ('age_desc', 'S11'), ('relation', 'S24'), ('Class/ASD', 'S3')])"
      ]
     },
     "execution_count": 7,
     "metadata": {},
     "output_type": "execute_result"
    }
   ],
   "source": [
    "data[0][:2]"
   ]
  },
  {
   "cell_type": "code",
   "execution_count": 8,
   "metadata": {},
   "outputs": [
    {
     "data": {
      "text/html": [
       "<div>\n",
       "<style scoped>\n",
       "    .dataframe tbody tr th:only-of-type {\n",
       "        vertical-align: middle;\n",
       "    }\n",
       "\n",
       "    .dataframe tbody tr th {\n",
       "        vertical-align: top;\n",
       "    }\n",
       "\n",
       "    .dataframe thead th {\n",
       "        text-align: right;\n",
       "    }\n",
       "</style>\n",
       "<table border=\"1\" class=\"dataframe\">\n",
       "  <thead>\n",
       "    <tr style=\"text-align: right;\">\n",
       "      <th></th>\n",
       "      <th>A1_Score</th>\n",
       "      <th>A2_Score</th>\n",
       "      <th>A3_Score</th>\n",
       "      <th>A4_Score</th>\n",
       "      <th>A5_Score</th>\n",
       "      <th>A6_Score</th>\n",
       "      <th>A7_Score</th>\n",
       "      <th>A8_Score</th>\n",
       "      <th>A9_Score</th>\n",
       "      <th>A10_Score</th>\n",
       "      <th>...</th>\n",
       "      <th>gender</th>\n",
       "      <th>ethnicity</th>\n",
       "      <th>jundice</th>\n",
       "      <th>austim</th>\n",
       "      <th>contry_of_res</th>\n",
       "      <th>used_app_before</th>\n",
       "      <th>result</th>\n",
       "      <th>age_desc</th>\n",
       "      <th>relation</th>\n",
       "      <th>Class/ASD</th>\n",
       "    </tr>\n",
       "  </thead>\n",
       "  <tbody>\n",
       "    <tr>\n",
       "      <th>0</th>\n",
       "      <td>b'0'</td>\n",
       "      <td>b'0'</td>\n",
       "      <td>b'0'</td>\n",
       "      <td>b'1'</td>\n",
       "      <td>b'1'</td>\n",
       "      <td>b'1'</td>\n",
       "      <td>b'1'</td>\n",
       "      <td>b'1'</td>\n",
       "      <td>b'1'</td>\n",
       "      <td>b'0'</td>\n",
       "      <td>...</td>\n",
       "      <td>b'm'</td>\n",
       "      <td>b'Hispanic'</td>\n",
       "      <td>b'yes'</td>\n",
       "      <td>b'yes'</td>\n",
       "      <td>b'Austria'</td>\n",
       "      <td>b'no'</td>\n",
       "      <td>6.0</td>\n",
       "      <td>b'12-16 years'</td>\n",
       "      <td>b'Parent'</td>\n",
       "      <td>b'NO'</td>\n",
       "    </tr>\n",
       "    <tr>\n",
       "      <th>1</th>\n",
       "      <td>b'0'</td>\n",
       "      <td>b'0'</td>\n",
       "      <td>b'0'</td>\n",
       "      <td>b'0'</td>\n",
       "      <td>b'0'</td>\n",
       "      <td>b'0'</td>\n",
       "      <td>b'0'</td>\n",
       "      <td>b'0'</td>\n",
       "      <td>b'1'</td>\n",
       "      <td>b'1'</td>\n",
       "      <td>...</td>\n",
       "      <td>b'm'</td>\n",
       "      <td>b'Black'</td>\n",
       "      <td>b'no'</td>\n",
       "      <td>b'no'</td>\n",
       "      <td>b'Austria'</td>\n",
       "      <td>b'no'</td>\n",
       "      <td>2.0</td>\n",
       "      <td>b'12-16 years'</td>\n",
       "      <td>b'Relative'</td>\n",
       "      <td>b'NO'</td>\n",
       "    </tr>\n",
       "    <tr>\n",
       "      <th>2</th>\n",
       "      <td>b'0'</td>\n",
       "      <td>b'0'</td>\n",
       "      <td>b'0'</td>\n",
       "      <td>b'0'</td>\n",
       "      <td>b'0'</td>\n",
       "      <td>b'0'</td>\n",
       "      <td>b'0'</td>\n",
       "      <td>b'0'</td>\n",
       "      <td>b'1'</td>\n",
       "      <td>b'1'</td>\n",
       "      <td>...</td>\n",
       "      <td>b'f'</td>\n",
       "      <td>b'?'</td>\n",
       "      <td>b'no'</td>\n",
       "      <td>b'no'</td>\n",
       "      <td>b'AmericanSamoa'</td>\n",
       "      <td>b'no'</td>\n",
       "      <td>2.0</td>\n",
       "      <td>b'12-16 years'</td>\n",
       "      <td>b'?'</td>\n",
       "      <td>b'NO'</td>\n",
       "    </tr>\n",
       "    <tr>\n",
       "      <th>3</th>\n",
       "      <td>b'0'</td>\n",
       "      <td>b'1'</td>\n",
       "      <td>b'1'</td>\n",
       "      <td>b'1'</td>\n",
       "      <td>b'1'</td>\n",
       "      <td>b'1'</td>\n",
       "      <td>b'0'</td>\n",
       "      <td>b'1'</td>\n",
       "      <td>b'1'</td>\n",
       "      <td>b'0'</td>\n",
       "      <td>...</td>\n",
       "      <td>b'f'</td>\n",
       "      <td>b'White-European'</td>\n",
       "      <td>b'no'</td>\n",
       "      <td>b'no'</td>\n",
       "      <td>b'United Kingdom'</td>\n",
       "      <td>b'no'</td>\n",
       "      <td>7.0</td>\n",
       "      <td>b'12-16 years'</td>\n",
       "      <td>b'Self'</td>\n",
       "      <td>b'YES'</td>\n",
       "    </tr>\n",
       "    <tr>\n",
       "      <th>4</th>\n",
       "      <td>b'1'</td>\n",
       "      <td>b'1'</td>\n",
       "      <td>b'1'</td>\n",
       "      <td>b'1'</td>\n",
       "      <td>b'1'</td>\n",
       "      <td>b'1'</td>\n",
       "      <td>b'1'</td>\n",
       "      <td>b'0'</td>\n",
       "      <td>b'0'</td>\n",
       "      <td>b'0'</td>\n",
       "      <td>...</td>\n",
       "      <td>b'f'</td>\n",
       "      <td>b'?'</td>\n",
       "      <td>b'no'</td>\n",
       "      <td>b'no'</td>\n",
       "      <td>b'Albania'</td>\n",
       "      <td>b'no'</td>\n",
       "      <td>7.0</td>\n",
       "      <td>b'12-16 years'</td>\n",
       "      <td>b'?'</td>\n",
       "      <td>b'YES'</td>\n",
       "    </tr>\n",
       "  </tbody>\n",
       "</table>\n",
       "<p>5 rows × 21 columns</p>\n",
       "</div>"
      ],
      "text/plain": [
       "  A1_Score A2_Score A3_Score A4_Score A5_Score A6_Score A7_Score A8_Score  \\\n",
       "0     b'0'     b'0'     b'0'     b'1'     b'1'     b'1'     b'1'     b'1'   \n",
       "1     b'0'     b'0'     b'0'     b'0'     b'0'     b'0'     b'0'     b'0'   \n",
       "2     b'0'     b'0'     b'0'     b'0'     b'0'     b'0'     b'0'     b'0'   \n",
       "3     b'0'     b'1'     b'1'     b'1'     b'1'     b'1'     b'0'     b'1'   \n",
       "4     b'1'     b'1'     b'1'     b'1'     b'1'     b'1'     b'1'     b'0'   \n",
       "\n",
       "  A9_Score A10_Score  ...  gender          ethnicity jundice  austim  \\\n",
       "0     b'1'      b'0'  ...    b'm'        b'Hispanic'  b'yes'  b'yes'   \n",
       "1     b'1'      b'1'  ...    b'm'           b'Black'   b'no'   b'no'   \n",
       "2     b'1'      b'1'  ...    b'f'               b'?'   b'no'   b'no'   \n",
       "3     b'1'      b'0'  ...    b'f'  b'White-European'   b'no'   b'no'   \n",
       "4     b'0'      b'0'  ...    b'f'               b'?'   b'no'   b'no'   \n",
       "\n",
       "       contry_of_res used_app_before result        age_desc     relation  \\\n",
       "0         b'Austria'           b'no'    6.0  b'12-16 years'    b'Parent'   \n",
       "1         b'Austria'           b'no'    2.0  b'12-16 years'  b'Relative'   \n",
       "2   b'AmericanSamoa'           b'no'    2.0  b'12-16 years'         b'?'   \n",
       "3  b'United Kingdom'           b'no'    7.0  b'12-16 years'      b'Self'   \n",
       "4         b'Albania'           b'no'    7.0  b'12-16 years'         b'?'   \n",
       "\n",
       "  Class/ASD  \n",
       "0     b'NO'  \n",
       "1     b'NO'  \n",
       "2     b'NO'  \n",
       "3    b'YES'  \n",
       "4    b'YES'  \n",
       "\n",
       "[5 rows x 21 columns]"
      ]
     },
     "execution_count": 8,
     "metadata": {},
     "output_type": "execute_result"
    }
   ],
   "source": [
    "df = pd.DataFrame(data[0])\n",
    "df.head()"
   ]
  },
  {
   "cell_type": "code",
   "execution_count": 9,
   "metadata": {},
   "outputs": [
    {
     "data": {
      "text/plain": [
       "['A1_Score',\n",
       " 'A2_Score',\n",
       " 'A3_Score',\n",
       " 'A4_Score',\n",
       " 'A5_Score',\n",
       " 'A6_Score',\n",
       " 'A7_Score',\n",
       " 'A8_Score',\n",
       " 'A9_Score',\n",
       " 'A10_Score',\n",
       " 'age',\n",
       " 'gender',\n",
       " 'ethnicity',\n",
       " 'jundice',\n",
       " 'austim',\n",
       " 'contry_of_res',\n",
       " 'used_app_before',\n",
       " 'result',\n",
       " 'age_desc',\n",
       " 'relation',\n",
       " 'Class/ASD']"
      ]
     },
     "execution_count": 9,
     "metadata": {},
     "output_type": "execute_result"
    }
   ],
   "source": [
    "list(df)"
   ]
  },
  {
   "cell_type": "code",
   "execution_count": 10,
   "metadata": {},
   "outputs": [],
   "source": [
    "df = df.apply(lambda x: x.astype(str).str.lower())    # Lowercasing\n",
    "df = df.replace(\"1\", 1)\n",
    "df = df.replace(\"0\", 0)\n",
    "df = df.replace(\"b'1'\", 1)\n",
    "df = df.replace(\"b'0'\", 0)\n",
    "df = df.replace(\"b'yes'\", 1)\n",
    "df = df.replace(\"b'no'\", 0)\n",
    "df = df.replace(\"b'f'\", 1)\n",
    "df = df.replace(\"b'm'\", 0)\n",
    "df = df.replace(\"b'Y'\", 1)\n",
    "df = df.replace(\"b'N'\", 0)"
   ]
  },
  {
   "cell_type": "code",
   "execution_count": 11,
   "metadata": {},
   "outputs": [
    {
     "data": {
      "text/html": [
       "<div>\n",
       "<style scoped>\n",
       "    .dataframe tbody tr th:only-of-type {\n",
       "        vertical-align: middle;\n",
       "    }\n",
       "\n",
       "    .dataframe tbody tr th {\n",
       "        vertical-align: top;\n",
       "    }\n",
       "\n",
       "    .dataframe thead th {\n",
       "        text-align: right;\n",
       "    }\n",
       "</style>\n",
       "<table border=\"1\" class=\"dataframe\">\n",
       "  <thead>\n",
       "    <tr style=\"text-align: right;\">\n",
       "      <th></th>\n",
       "      <th>A1_Score</th>\n",
       "      <th>A2_Score</th>\n",
       "      <th>A3_Score</th>\n",
       "      <th>A4_Score</th>\n",
       "      <th>A5_Score</th>\n",
       "      <th>A6_Score</th>\n",
       "      <th>A7_Score</th>\n",
       "      <th>A8_Score</th>\n",
       "      <th>A9_Score</th>\n",
       "      <th>A10_Score</th>\n",
       "      <th>...</th>\n",
       "      <th>gender</th>\n",
       "      <th>ethnicity</th>\n",
       "      <th>jundice</th>\n",
       "      <th>austim</th>\n",
       "      <th>contry_of_res</th>\n",
       "      <th>used_app_before</th>\n",
       "      <th>result</th>\n",
       "      <th>age_desc</th>\n",
       "      <th>relation</th>\n",
       "      <th>Class/ASD</th>\n",
       "    </tr>\n",
       "  </thead>\n",
       "  <tbody>\n",
       "    <tr>\n",
       "      <th>0</th>\n",
       "      <td>0</td>\n",
       "      <td>0</td>\n",
       "      <td>0</td>\n",
       "      <td>1</td>\n",
       "      <td>1</td>\n",
       "      <td>1</td>\n",
       "      <td>1</td>\n",
       "      <td>1</td>\n",
       "      <td>1</td>\n",
       "      <td>0</td>\n",
       "      <td>...</td>\n",
       "      <td>0</td>\n",
       "      <td>b'hispanic'</td>\n",
       "      <td>1</td>\n",
       "      <td>1</td>\n",
       "      <td>b'austria'</td>\n",
       "      <td>0</td>\n",
       "      <td>6.0</td>\n",
       "      <td>b'12-16 years'</td>\n",
       "      <td>b'parent'</td>\n",
       "      <td>0</td>\n",
       "    </tr>\n",
       "    <tr>\n",
       "      <th>1</th>\n",
       "      <td>0</td>\n",
       "      <td>0</td>\n",
       "      <td>0</td>\n",
       "      <td>0</td>\n",
       "      <td>0</td>\n",
       "      <td>0</td>\n",
       "      <td>0</td>\n",
       "      <td>0</td>\n",
       "      <td>1</td>\n",
       "      <td>1</td>\n",
       "      <td>...</td>\n",
       "      <td>0</td>\n",
       "      <td>b'black'</td>\n",
       "      <td>0</td>\n",
       "      <td>0</td>\n",
       "      <td>b'austria'</td>\n",
       "      <td>0</td>\n",
       "      <td>2.0</td>\n",
       "      <td>b'12-16 years'</td>\n",
       "      <td>b'relative'</td>\n",
       "      <td>0</td>\n",
       "    </tr>\n",
       "    <tr>\n",
       "      <th>2</th>\n",
       "      <td>0</td>\n",
       "      <td>0</td>\n",
       "      <td>0</td>\n",
       "      <td>0</td>\n",
       "      <td>0</td>\n",
       "      <td>0</td>\n",
       "      <td>0</td>\n",
       "      <td>0</td>\n",
       "      <td>1</td>\n",
       "      <td>1</td>\n",
       "      <td>...</td>\n",
       "      <td>1</td>\n",
       "      <td>b'?'</td>\n",
       "      <td>0</td>\n",
       "      <td>0</td>\n",
       "      <td>b'americansamoa'</td>\n",
       "      <td>0</td>\n",
       "      <td>2.0</td>\n",
       "      <td>b'12-16 years'</td>\n",
       "      <td>b'?'</td>\n",
       "      <td>0</td>\n",
       "    </tr>\n",
       "    <tr>\n",
       "      <th>3</th>\n",
       "      <td>0</td>\n",
       "      <td>1</td>\n",
       "      <td>1</td>\n",
       "      <td>1</td>\n",
       "      <td>1</td>\n",
       "      <td>1</td>\n",
       "      <td>0</td>\n",
       "      <td>1</td>\n",
       "      <td>1</td>\n",
       "      <td>0</td>\n",
       "      <td>...</td>\n",
       "      <td>1</td>\n",
       "      <td>b'white-european'</td>\n",
       "      <td>0</td>\n",
       "      <td>0</td>\n",
       "      <td>b'united kingdom'</td>\n",
       "      <td>0</td>\n",
       "      <td>7.0</td>\n",
       "      <td>b'12-16 years'</td>\n",
       "      <td>b'self'</td>\n",
       "      <td>1</td>\n",
       "    </tr>\n",
       "    <tr>\n",
       "      <th>4</th>\n",
       "      <td>1</td>\n",
       "      <td>1</td>\n",
       "      <td>1</td>\n",
       "      <td>1</td>\n",
       "      <td>1</td>\n",
       "      <td>1</td>\n",
       "      <td>1</td>\n",
       "      <td>0</td>\n",
       "      <td>0</td>\n",
       "      <td>0</td>\n",
       "      <td>...</td>\n",
       "      <td>1</td>\n",
       "      <td>b'?'</td>\n",
       "      <td>0</td>\n",
       "      <td>0</td>\n",
       "      <td>b'albania'</td>\n",
       "      <td>0</td>\n",
       "      <td>7.0</td>\n",
       "      <td>b'12-16 years'</td>\n",
       "      <td>b'?'</td>\n",
       "      <td>1</td>\n",
       "    </tr>\n",
       "  </tbody>\n",
       "</table>\n",
       "<p>5 rows × 21 columns</p>\n",
       "</div>"
      ],
      "text/plain": [
       "   A1_Score  A2_Score  A3_Score  A4_Score  A5_Score  A6_Score  A7_Score  \\\n",
       "0         0         0         0         1         1         1         1   \n",
       "1         0         0         0         0         0         0         0   \n",
       "2         0         0         0         0         0         0         0   \n",
       "3         0         1         1         1         1         1         0   \n",
       "4         1         1         1         1         1         1         1   \n",
       "\n",
       "   A8_Score  A9_Score  A10_Score  ... gender          ethnicity jundice  \\\n",
       "0         1         1          0  ...      0        b'hispanic'       1   \n",
       "1         0         1          1  ...      0           b'black'       0   \n",
       "2         0         1          1  ...      1               b'?'       0   \n",
       "3         1         1          0  ...      1  b'white-european'       0   \n",
       "4         0         0          0  ...      1               b'?'       0   \n",
       "\n",
       "   austim      contry_of_res used_app_before  result        age_desc  \\\n",
       "0       1         b'austria'               0     6.0  b'12-16 years'   \n",
       "1       0         b'austria'               0     2.0  b'12-16 years'   \n",
       "2       0   b'americansamoa'               0     2.0  b'12-16 years'   \n",
       "3       0  b'united kingdom'               0     7.0  b'12-16 years'   \n",
       "4       0         b'albania'               0     7.0  b'12-16 years'   \n",
       "\n",
       "      relation Class/ASD  \n",
       "0    b'parent'         0  \n",
       "1  b'relative'         0  \n",
       "2         b'?'         0  \n",
       "3      b'self'         1  \n",
       "4         b'?'         1  \n",
       "\n",
       "[5 rows x 21 columns]"
      ]
     },
     "execution_count": 11,
     "metadata": {},
     "output_type": "execute_result"
    }
   ],
   "source": [
    "df.head()"
   ]
  },
  {
   "cell_type": "markdown",
   "metadata": {},
   "source": [
    "## Subset the data"
   ]
  },
  {
   "cell_type": "markdown",
   "metadata": {},
   "source": [
    "| **Attribute**                 | **Type**            | **Description**                                                                  |\n",
    "| ----------------------------- | ------------------- | -------------------------------------------------------------------------------- |\n",
    "| Question 1 Answer             | Binary (0, 1)       | The answer code of the question based on the screening method used               |\n",
    "| Question 2 Answer             | Binary (0, 1)       | The answer code of the question based on the screening method used               |\n",
    "| Question 3 Answer             | Binary (0, 1)       | The answer code of the question based on the screening method used               |\n",
    "| Question 4 Answer             | Binary (0, 1)       | The answer code of the question based on the screening method used               |\n",
    "| Question 5 Answer             | Binary (0, 1)       | The answer code of the question based on the screening method used               |\n",
    "| Question 6 Answer             | Binary (0, 1)       | The answer code of the question based on the screening method used               |\n",
    "| Question 7 Answer             | Binary (0, 1)       | The answer code of the question based on the screening method used               |\n",
    "| Question 8 Answer             | Binary (0, 1)       | The answer code of the question based on the screening method used               |\n",
    "| Question 9 Answer             | Binary (0, 1)       | The answer code of the question based on the screening method used               |\n",
    "| Question 10 Answer            | Binary (0, 1)       | The answer code of the question based on the screening method used               |\n",
    "| Gender                        | String              | Male or Female                                                                   |\n",
    "| Born with jaundice            | Boolean (yes or no) | Whether the case was born with jaundice                                          |\n",
    "| Austim                        | Boolean (yes or no) | If the case has autism                                                           |"
   ]
  },
  {
   "cell_type": "code",
   "execution_count": 12,
   "metadata": {},
   "outputs": [
    {
     "data": {
      "text/plain": [
       "['A1_Score',\n",
       " 'A2_Score',\n",
       " 'A3_Score',\n",
       " 'A4_Score',\n",
       " 'A5_Score',\n",
       " 'A6_Score',\n",
       " 'A7_Score',\n",
       " 'A8_Score',\n",
       " 'A9_Score',\n",
       " 'A10_Score',\n",
       " 'gender',\n",
       " 'jundice',\n",
       " 'austim']"
      ]
     },
     "execution_count": 12,
     "metadata": {},
     "output_type": "execute_result"
    }
   ],
   "source": [
    "X = list(df.loc[:,'A1_Score':'A10_Score']) + ['gender'] + ['jundice'] + ['austim']\n",
    "X"
   ]
  },
  {
   "cell_type": "markdown",
   "metadata": {},
   "source": [
    "* iloc: location based indexing for selection by position\n",
    "* Y contains only the column \"Class/ASD\" (column 20, starting from 0)"
   ]
  },
  {
   "cell_type": "code",
   "execution_count": 13,
   "metadata": {},
   "outputs": [
    {
     "data": {
      "text/plain": [
       "0      0\n",
       "1      0\n",
       "2      0\n",
       "3      1\n",
       "4      1\n",
       "      ..\n",
       "99     0\n",
       "100    0\n",
       "101    1\n",
       "102    0\n",
       "103    0\n",
       "Name: Class/ASD, Length: 104, dtype: int64"
      ]
     },
     "execution_count": 13,
     "metadata": {},
     "output_type": "execute_result"
    }
   ],
   "source": [
    "Y = df.iloc[:,20]\n",
    "Y"
   ]
  },
  {
   "cell_type": "markdown",
   "metadata": {},
   "source": [
    "New database with only the selected variables"
   ]
  },
  {
   "cell_type": "code",
   "execution_count": 14,
   "metadata": {},
   "outputs": [
    {
     "data": {
      "text/html": [
       "<div>\n",
       "<style scoped>\n",
       "    .dataframe tbody tr th:only-of-type {\n",
       "        vertical-align: middle;\n",
       "    }\n",
       "\n",
       "    .dataframe tbody tr th {\n",
       "        vertical-align: top;\n",
       "    }\n",
       "\n",
       "    .dataframe thead th {\n",
       "        text-align: right;\n",
       "    }\n",
       "</style>\n",
       "<table border=\"1\" class=\"dataframe\">\n",
       "  <thead>\n",
       "    <tr style=\"text-align: right;\">\n",
       "      <th></th>\n",
       "      <th>A1_Score</th>\n",
       "      <th>A2_Score</th>\n",
       "      <th>A3_Score</th>\n",
       "      <th>A4_Score</th>\n",
       "      <th>A5_Score</th>\n",
       "      <th>A6_Score</th>\n",
       "      <th>A7_Score</th>\n",
       "      <th>A8_Score</th>\n",
       "      <th>A9_Score</th>\n",
       "      <th>A10_Score</th>\n",
       "      <th>gender</th>\n",
       "      <th>jundice</th>\n",
       "      <th>austim</th>\n",
       "    </tr>\n",
       "  </thead>\n",
       "  <tbody>\n",
       "    <tr>\n",
       "      <th>0</th>\n",
       "      <td>0</td>\n",
       "      <td>0</td>\n",
       "      <td>0</td>\n",
       "      <td>1</td>\n",
       "      <td>1</td>\n",
       "      <td>1</td>\n",
       "      <td>1</td>\n",
       "      <td>1</td>\n",
       "      <td>1</td>\n",
       "      <td>0</td>\n",
       "      <td>0</td>\n",
       "      <td>1</td>\n",
       "      <td>1</td>\n",
       "    </tr>\n",
       "    <tr>\n",
       "      <th>1</th>\n",
       "      <td>0</td>\n",
       "      <td>0</td>\n",
       "      <td>0</td>\n",
       "      <td>0</td>\n",
       "      <td>0</td>\n",
       "      <td>0</td>\n",
       "      <td>0</td>\n",
       "      <td>0</td>\n",
       "      <td>1</td>\n",
       "      <td>1</td>\n",
       "      <td>0</td>\n",
       "      <td>0</td>\n",
       "      <td>0</td>\n",
       "    </tr>\n",
       "    <tr>\n",
       "      <th>2</th>\n",
       "      <td>0</td>\n",
       "      <td>0</td>\n",
       "      <td>0</td>\n",
       "      <td>0</td>\n",
       "      <td>0</td>\n",
       "      <td>0</td>\n",
       "      <td>0</td>\n",
       "      <td>0</td>\n",
       "      <td>1</td>\n",
       "      <td>1</td>\n",
       "      <td>1</td>\n",
       "      <td>0</td>\n",
       "      <td>0</td>\n",
       "    </tr>\n",
       "    <tr>\n",
       "      <th>3</th>\n",
       "      <td>0</td>\n",
       "      <td>1</td>\n",
       "      <td>1</td>\n",
       "      <td>1</td>\n",
       "      <td>1</td>\n",
       "      <td>1</td>\n",
       "      <td>0</td>\n",
       "      <td>1</td>\n",
       "      <td>1</td>\n",
       "      <td>0</td>\n",
       "      <td>1</td>\n",
       "      <td>0</td>\n",
       "      <td>0</td>\n",
       "    </tr>\n",
       "    <tr>\n",
       "      <th>4</th>\n",
       "      <td>1</td>\n",
       "      <td>1</td>\n",
       "      <td>1</td>\n",
       "      <td>1</td>\n",
       "      <td>1</td>\n",
       "      <td>1</td>\n",
       "      <td>1</td>\n",
       "      <td>0</td>\n",
       "      <td>0</td>\n",
       "      <td>0</td>\n",
       "      <td>1</td>\n",
       "      <td>0</td>\n",
       "      <td>0</td>\n",
       "    </tr>\n",
       "  </tbody>\n",
       "</table>\n",
       "</div>"
      ],
      "text/plain": [
       "   A1_Score  A2_Score  A3_Score  A4_Score  A5_Score  A6_Score  A7_Score  \\\n",
       "0         0         0         0         1         1         1         1   \n",
       "1         0         0         0         0         0         0         0   \n",
       "2         0         0         0         0         0         0         0   \n",
       "3         0         1         1         1         1         1         0   \n",
       "4         1         1         1         1         1         1         1   \n",
       "\n",
       "   A8_Score  A9_Score  A10_Score  gender  jundice  austim  \n",
       "0         1         1          0       0        1       1  \n",
       "1         0         1          1       0        0       0  \n",
       "2         0         1          1       1        0       0  \n",
       "3         1         1          0       1        0       0  \n",
       "4         0         0          0       1        0       0  "
      ]
     },
     "execution_count": 14,
     "metadata": {},
     "output_type": "execute_result"
    }
   ],
   "source": [
    "df2 = df[X]\n",
    "df2.head()"
   ]
  },
  {
   "cell_type": "markdown",
   "metadata": {},
   "source": [
    "one-hot encoding the categorical variables so that we can turn the categorical variables to numeric"
   ]
  },
  {
   "cell_type": "markdown",
   "metadata": {},
   "source": [
    "## Split the data into train and test sets"
   ]
  },
  {
   "cell_type": "code",
   "execution_count": 15,
   "metadata": {},
   "outputs": [
    {
     "data": {
      "text/plain": [
       "((83, 13), (83,), (21, 13), (21,))"
      ]
     },
     "execution_count": 15,
     "metadata": {},
     "output_type": "execute_result"
    }
   ],
   "source": [
    "XTrain, XTest, YTrain, YTest = train_test_split(df2, Y, test_size=0.2)    # 80/20%\n",
    "XTrain.shape, YTrain.shape, XTest.shape, YTest.shape"
   ]
  },
  {
   "cell_type": "code",
   "execution_count": 16,
   "metadata": {},
   "outputs": [
    {
     "data": {
      "text/plain": [
       "33    1\n",
       "85    1\n",
       "31    1\n",
       "75    0\n",
       "10    0\n",
       "Name: Class/ASD, dtype: int64"
      ]
     },
     "execution_count": 16,
     "metadata": {},
     "output_type": "execute_result"
    }
   ],
   "source": [
    "YTest.head()"
   ]
  },
  {
   "cell_type": "code",
   "execution_count": 17,
   "metadata": {},
   "outputs": [
    {
     "data": {
      "text/html": [
       "<div>\n",
       "<style scoped>\n",
       "    .dataframe tbody tr th:only-of-type {\n",
       "        vertical-align: middle;\n",
       "    }\n",
       "\n",
       "    .dataframe tbody tr th {\n",
       "        vertical-align: top;\n",
       "    }\n",
       "\n",
       "    .dataframe thead th {\n",
       "        text-align: right;\n",
       "    }\n",
       "</style>\n",
       "<table border=\"1\" class=\"dataframe\">\n",
       "  <thead>\n",
       "    <tr style=\"text-align: right;\">\n",
       "      <th></th>\n",
       "      <th>A1_Score</th>\n",
       "      <th>A2_Score</th>\n",
       "      <th>A3_Score</th>\n",
       "      <th>A4_Score</th>\n",
       "      <th>A5_Score</th>\n",
       "      <th>A6_Score</th>\n",
       "      <th>A7_Score</th>\n",
       "      <th>A8_Score</th>\n",
       "      <th>A9_Score</th>\n",
       "      <th>A10_Score</th>\n",
       "      <th>gender</th>\n",
       "      <th>jundice</th>\n",
       "      <th>austim</th>\n",
       "    </tr>\n",
       "  </thead>\n",
       "  <tbody>\n",
       "    <tr>\n",
       "      <th>33</th>\n",
       "      <td>1</td>\n",
       "      <td>1</td>\n",
       "      <td>1</td>\n",
       "      <td>1</td>\n",
       "      <td>1</td>\n",
       "      <td>1</td>\n",
       "      <td>1</td>\n",
       "      <td>0</td>\n",
       "      <td>1</td>\n",
       "      <td>1</td>\n",
       "      <td>0</td>\n",
       "      <td>1</td>\n",
       "      <td>0</td>\n",
       "    </tr>\n",
       "    <tr>\n",
       "      <th>85</th>\n",
       "      <td>0</td>\n",
       "      <td>0</td>\n",
       "      <td>1</td>\n",
       "      <td>1</td>\n",
       "      <td>1</td>\n",
       "      <td>0</td>\n",
       "      <td>1</td>\n",
       "      <td>1</td>\n",
       "      <td>1</td>\n",
       "      <td>1</td>\n",
       "      <td>0</td>\n",
       "      <td>1</td>\n",
       "      <td>0</td>\n",
       "    </tr>\n",
       "    <tr>\n",
       "      <th>31</th>\n",
       "      <td>1</td>\n",
       "      <td>1</td>\n",
       "      <td>1</td>\n",
       "      <td>1</td>\n",
       "      <td>1</td>\n",
       "      <td>1</td>\n",
       "      <td>0</td>\n",
       "      <td>0</td>\n",
       "      <td>0</td>\n",
       "      <td>1</td>\n",
       "      <td>0</td>\n",
       "      <td>0</td>\n",
       "      <td>0</td>\n",
       "    </tr>\n",
       "    <tr>\n",
       "      <th>75</th>\n",
       "      <td>1</td>\n",
       "      <td>1</td>\n",
       "      <td>1</td>\n",
       "      <td>0</td>\n",
       "      <td>1</td>\n",
       "      <td>0</td>\n",
       "      <td>1</td>\n",
       "      <td>0</td>\n",
       "      <td>1</td>\n",
       "      <td>0</td>\n",
       "      <td>0</td>\n",
       "      <td>0</td>\n",
       "      <td>1</td>\n",
       "    </tr>\n",
       "    <tr>\n",
       "      <th>10</th>\n",
       "      <td>1</td>\n",
       "      <td>0</td>\n",
       "      <td>0</td>\n",
       "      <td>0</td>\n",
       "      <td>1</td>\n",
       "      <td>1</td>\n",
       "      <td>0</td>\n",
       "      <td>1</td>\n",
       "      <td>1</td>\n",
       "      <td>0</td>\n",
       "      <td>1</td>\n",
       "      <td>1</td>\n",
       "      <td>0</td>\n",
       "    </tr>\n",
       "  </tbody>\n",
       "</table>\n",
       "</div>"
      ],
      "text/plain": [
       "    A1_Score  A2_Score  A3_Score  A4_Score  A5_Score  A6_Score  A7_Score  \\\n",
       "33         1         1         1         1         1         1         1   \n",
       "85         0         0         1         1         1         0         1   \n",
       "31         1         1         1         1         1         1         0   \n",
       "75         1         1         1         0         1         0         1   \n",
       "10         1         0         0         0         1         1         0   \n",
       "\n",
       "    A8_Score  A9_Score  A10_Score  gender  jundice  austim  \n",
       "33         0         1          1       0        1       0  \n",
       "85         1         1          1       0        1       0  \n",
       "31         0         0          1       0        0       0  \n",
       "75         0         1          0       0        0       1  \n",
       "10         1         1          0       1        1       0  "
      ]
     },
     "execution_count": 17,
     "metadata": {},
     "output_type": "execute_result"
    }
   ],
   "source": [
    "XTest.head()"
   ]
  },
  {
   "cell_type": "markdown",
   "metadata": {},
   "source": [
    "# Build a Random Forest Classifier"
   ]
  },
  {
   "cell_type": "markdown",
   "metadata": {},
   "source": [
    "* n_jobs = int : The number of jobs to run in parallel over the trees, default=None=1\n",
    "* random_state = int : Controls the sampling of the features to consider when looking for the best split at each node (if max_features < n_features), default=None, random_state=0=seed used by the random number generator"
   ]
  },
  {
   "cell_type": "code",
   "execution_count": 18,
   "metadata": {},
   "outputs": [
    {
     "data": {
      "text/plain": [
       "RandomForestClassifier(n_jobs=2, random_state=0)"
      ]
     },
     "execution_count": 18,
     "metadata": {},
     "output_type": "execute_result"
    }
   ],
   "source": [
    "clf = RandomForestClassifier(n_jobs=2, random_state=0)\n",
    "clf"
   ]
  },
  {
   "cell_type": "markdown",
   "metadata": {},
   "source": [
    "* bootstrap (True) : Whether bootstrap samples are used when building trees. If False, the whole dataset is used to build each tree\n",
    "* class_weight (None) : Weights associated with classes\n",
    "* criterion ('gini') : The function to measure the quality of a split. “gini” for the Gini impurity\n",
    "* max_depth (None) : The maximum depth of the tree\n",
    "* max_features ('auto') : The number of features to consider when looking for the best split. If “auto”, then max_features=sqrt(n_features)\n",
    "* max_leaf_nodes (None) : Grow trees with max_leaf_nodes in best-first fashion. Best nodes are defined as relative reduction in impurity. If None then unlimited number of leaf nodes\n",
    "* **min_impurity_split (deprecated)** : Threshold for early stopping in tree growth\n",
    "* min_samples_leaf (1) : The minimum number of samples required to be at a leaf node\n",
    "* min_samples_split (2) : The minimum number of samples required to split an internal node\n",
    "* min_weight_fraction_leaf (0.0) : The minimum weighted fraction of the sum total of weights\n",
    "* **n_estimators (100)** : The number of trees in the forest\n",
    "* **n_jobs (None)** : The number of jobs to run in parallel\n",
    "* oob_score (False) : Whether to use out-of-bag samples to estimate the generalization score\n",
    "* **random_state (None)** : Controls both the randomness of the bootstrapping of the samples used when building trees (if bootstrap=True) and the sampling of the features to consider when looking for the best split at each node (if max_features < n_features)\n",
    "* verbose (0) : Verbosity\n",
    "* warm_start (False) : When set to True, reuse the solution of the previous call to fit and add more estimators to the ensemble, otherwise, just fit a whole new forest"
   ]
  },
  {
   "cell_type": "markdown",
   "metadata": {},
   "source": [
    "## Fit\n",
    "fit(X, Y) : Build a forest of trees from the training set, where X is the training input samples, and Y is the target values."
   ]
  },
  {
   "cell_type": "code",
   "execution_count": 19,
   "metadata": {},
   "outputs": [
    {
     "data": {
      "text/plain": [
       "RandomForestClassifier(n_jobs=2, random_state=0)"
      ]
     },
     "execution_count": 19,
     "metadata": {},
     "output_type": "execute_result"
    }
   ],
   "source": [
    "clf.fit(XTrain, YTrain)    # train de model"
   ]
  },
  {
   "cell_type": "code",
   "execution_count": 20,
   "metadata": {},
   "outputs": [
    {
     "data": {
      "text/plain": [
       "RandomForestClassifier(min_impurity_split=1e-07, n_estimators=10, n_jobs=2,\n",
       "                       random_state=0)"
      ]
     },
     "execution_count": 20,
     "metadata": {},
     "output_type": "execute_result"
    }
   ],
   "source": [
    "RandomForestClassifier(bootstrap=True, class_weight=None, criterion='gini',\n",
    "            max_depth=None, max_features='auto', max_leaf_nodes=None,\n",
    "            min_impurity_split=1e-07, min_samples_leaf=1,\n",
    "            min_samples_split=2, min_weight_fraction_leaf=0.0,\n",
    "            n_estimators=10, n_jobs=2, oob_score=False, random_state=0,\n",
    "            verbose=0, warm_start=False)"
   ]
  },
  {
   "cell_type": "markdown",
   "metadata": {},
   "source": [
    "## Predict"
   ]
  },
  {
   "cell_type": "code",
   "execution_count": 21,
   "metadata": {},
   "outputs": [],
   "source": [
    "preds = clf.predict(XTest)"
   ]
  },
  {
   "cell_type": "code",
   "execution_count": 22,
   "metadata": {},
   "outputs": [
    {
     "data": {
      "text/plain": [
       "array([1, 1, 1, 0, 0, 1, 0, 0, 1, 0, 1, 1, 0, 1, 0, 0, 0, 1, 1, 0, 1])"
      ]
     },
     "execution_count": 22,
     "metadata": {},
     "output_type": "execute_result"
    }
   ],
   "source": [
    "preds"
   ]
  },
  {
   "cell_type": "markdown",
   "metadata": {},
   "source": [
    "## Check de accuracy of the model"
   ]
  },
  {
   "cell_type": "code",
   "execution_count": 24,
   "metadata": {},
   "outputs": [
    {
     "name": "stdout",
     "output_type": "stream",
     "text": [
      "Accuracy: 0.8571428571428571\n"
     ]
    }
   ],
   "source": [
    "from sklearn import metrics\n",
    "print(\"Accuracy:\",metrics.accuracy_score(YTest, preds))"
   ]
  },
  {
   "cell_type": "code",
   "execution_count": 25,
   "metadata": {},
   "outputs": [
    {
     "data": {
      "text/html": [
       "<div>\n",
       "<style scoped>\n",
       "    .dataframe tbody tr th:only-of-type {\n",
       "        vertical-align: middle;\n",
       "    }\n",
       "\n",
       "    .dataframe tbody tr th {\n",
       "        vertical-align: top;\n",
       "    }\n",
       "\n",
       "    .dataframe thead th {\n",
       "        text-align: right;\n",
       "    }\n",
       "</style>\n",
       "<table border=\"1\" class=\"dataframe\">\n",
       "  <thead>\n",
       "    <tr style=\"text-align: right;\">\n",
       "      <th>Predicted Result</th>\n",
       "      <th>0</th>\n",
       "      <th>1</th>\n",
       "    </tr>\n",
       "    <tr>\n",
       "      <th>Actual Result</th>\n",
       "      <th></th>\n",
       "      <th></th>\n",
       "    </tr>\n",
       "  </thead>\n",
       "  <tbody>\n",
       "    <tr>\n",
       "      <th>0</th>\n",
       "      <td>7</td>\n",
       "      <td>0</td>\n",
       "    </tr>\n",
       "    <tr>\n",
       "      <th>1</th>\n",
       "      <td>3</td>\n",
       "      <td>11</td>\n",
       "    </tr>\n",
       "  </tbody>\n",
       "</table>\n",
       "</div>"
      ],
      "text/plain": [
       "Predicted Result  0   1\n",
       "Actual Result          \n",
       "0                 7   0\n",
       "1                 3  11"
      ]
     },
     "execution_count": 25,
     "metadata": {},
     "output_type": "execute_result"
    }
   ],
   "source": [
    "pd.crosstab(YTest, preds, rownames=['Actual Result'], colnames=['Predicted Result'])"
   ]
  },
  {
   "cell_type": "markdown",
   "metadata": {},
   "source": [
    "## Check feature importance"
   ]
  },
  {
   "cell_type": "code",
   "execution_count": 26,
   "metadata": {},
   "outputs": [
    {
     "data": {
      "text/plain": [
       "[('A1_Score', 0.03827731992746742),\n",
       " ('A2_Score', 0.04971970187695681),\n",
       " ('A3_Score', 0.11902304990051994),\n",
       " ('A4_Score', 0.1012294925765204),\n",
       " ('A5_Score', 0.17991865936303242),\n",
       " ('A6_Score', 0.09008866379161827),\n",
       " ('A7_Score', 0.07474806909839479),\n",
       " ('A8_Score', 0.07851124059405166),\n",
       " ('A9_Score', 0.05724248340041242),\n",
       " ('A10_Score', 0.14525546367053693),\n",
       " ('gender', 0.029159907264994605),\n",
       " ('jundice', 0.021117635693473438),\n",
       " ('austim', 0.0157083128420207)]"
      ]
     },
     "execution_count": 26,
     "metadata": {},
     "output_type": "execute_result"
    }
   ],
   "source": [
    "list(zip(XTrain, clf.feature_importances_))"
   ]
  },
  {
   "cell_type": "code",
   "execution_count": null,
   "metadata": {},
   "outputs": [],
   "source": []
  }
 ],
 "metadata": {
  "kernelspec": {
   "display_name": "Python 3",
   "language": "python",
   "name": "python3"
  },
  "language_info": {
   "codemirror_mode": {
    "name": "ipython",
    "version": 3
   },
   "file_extension": ".py",
   "mimetype": "text/x-python",
   "name": "python",
   "nbconvert_exporter": "python",
   "pygments_lexer": "ipython3",
   "version": "3.8.5"
  }
 },
 "nbformat": 4,
 "nbformat_minor": 4
}
