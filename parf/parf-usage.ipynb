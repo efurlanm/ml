{
 "cells": [
  {
   "cell_type": "markdown",
   "metadata": {},
   "source": [
    "# Usage\n",
    "\n",
    "Last revision: 2021-05-13\n",
    "\n",
    "Based on https://github.com/efurlanm/ml/blob/master/docs/Usage.md"
   ]
  },
  {
   "cell_type": "code",
   "execution_count": 1,
   "metadata": {},
   "outputs": [],
   "source": [
    "#-----------------------------------------------------------------------"
   ]
  },
  {
   "cell_type": "markdown",
   "metadata": {},
   "source": [
    "The list of all supported options can be obtained by running:"
   ]
  },
  {
   "cell_type": "code",
   "execution_count": 3,
   "metadata": {},
   "outputs": [
    {
     "name": "stdout",
     "output_type": "stream",
     "text": [
      "PARF (C) 2005 Rudjer Boskovic Institute\n",
      "Goran Topic, Tomislav Smuc; algorithm by Leo Breiman and Adele Cutler\n",
      "Licensed under GNU GPL 2.0\n",
      " \n",
      "Usage: rf [OPTION...]\n",
      "-h | --help   show this message\n",
      "-t file       file to use as training set\n",
      "-a file       file to analyse and classify\n",
      "-tv [file]    training set votes output file\n",
      "-tc [file]    training set confusion matrix output file\n",
      "-av [file]    test set votes output file\n",
      "-ac [file]    test set confusion matrix output file\n",
      "-ar [file]    test set classification results output file\n",
      "-aa [file]    test set ARFF output file\n",
      "-ta [file]    train + test set ARFF output file\n",
      "-c class      the class attribute, or NEW, or LAST (default)\n",
      "-cq [n[%]]    quantity of generated class instances (only with -c NEW)\n",
      "-cp category  positive category\n",
      "-n trees      the number of trees to grow\n",
      "-f n          the fill method: 0=none, 1=rough, 2+=# of passes\n",
      "-v n          redo the forest with n most important variables\n",
      "-vs n         redo the forest with variables more significant than n\n",
      "-p [n[%]]     number of proximate cases to take into consideration\n",
      "-st [file]    training set scaling output file\n",
      "-sa [file]    test set scaling output file\n",
      "-sy [file]    prototype scaling output file\n",
      "-s n          number of scaling coordinates (default 2)\n",
      "-sd [n]       max allowed divergent iterations in scaling calculation\n",
      "-y [file]     prototypes output file\n",
      "-ya [file]    detailed prototypes analysis output file\n",
      "-yn n         number of prototypes per class (if available)\n",
      "-yp n         number of proximates to look at for prototypes\n",
      "-m mvar       the number of variables to split on\n",
      "-mv mvar      the number of split variables with most important variables\n",
      "-xs size[%]   the minimum node size to split\n",
      "-xr ratio[%]  the split cutoff ratio limit (0-1)\n",
      "-b categories the number of categories that use the fast split algorithm\n",
      "-bi iters     the number of fast split iterations per category\n",
      "-u(u) var,... comma-separated list of used or unused attributes\n",
      "-ri var       row identifier variable\n",
      "-r seed       random number generator seed\n",
      "-fd [file]    dump the forest as a text\n",
      "-fs file      save the forest\n",
      "-fl file      load the forest\n",
      "-i [file]     variable importances output file\n",
      "-ic [file]    case-by-case variable importances output file\n",
      "-ii [file]    variable interaction output file\n",
      "-if [file]    fast variable importances output file\n",
      "-ot [file]    training set outlier measure output file\n",
      "-oa [file]    testing set outlier measure output file\n",
      "-w wt,...     class weight override\n",
      "-g [file]     generate gnuplot graphics script\n",
      "-gt type      gnuplot graphics terminal type\n",
      "--verbose     print what is done\n"
     ]
    }
   ],
   "source": [
    "! ./parf -h"
   ]
  },
  {
   "cell_type": "markdown",
   "metadata": {},
   "source": [
    "\\\n",
    "Weka's ARFF datasets can be used with PARF. To train a forest in an example dataset (glass.arff), where `-t file` is the file to use as training set:"
   ]
  },
  {
   "cell_type": "code",
   "execution_count": 9,
   "metadata": {},
   "outputs": [
    {
     "name": "stdout",
     "output_type": "stream",
     "text": [
      "Seed:   -125114485\n",
      "Loading training set\n",
      "Number of training cases:    214\n",
      "Number of attributes:         10\n",
      "Counting classes\n",
      "Number of used attributes:     9\n",
      "Attributes to split on:        3\n",
      "Sorting and ranking\n",
      "Growing forest\n",
      "        Tree #     1\n",
      "        Tree #     2\n",
      "        Tree #     3\n",
      "        Tree #     4\n",
      "        Tree #     5\n",
      "        Tree #     6\n"
     ]
    }
   ],
   "source": [
    "%%bash\n",
    "./parf --verbose -t datasets/glass.arff | head -15"
   ]
  },
  {
   "cell_type": "markdown",
   "metadata": {},
   "source": [
    "By default, the program takes the last attribute as the class. This, in itself, is not useful, since the forest is not used at all, but we can see, thanks to the `--verbose` option, which is completely optional, that it is working. \n",
    "\n",
    "We can try to use the generated forest to classify another data set (or even the same, if we haven't had another data set yet), where `-t file` is the file to use as training set, and `-a file` is the file to analyse and classify the \"supplied test set\":"
   ]
  },
  {
   "cell_type": "code",
   "execution_count": 8,
   "metadata": {},
   "outputs": [
    {
     "name": "stdout",
     "output_type": "stream",
     "text": [
      "Seed:   -136617806\n",
      "Loading training set\n",
      "Loading test set\n",
      "Number of training cases:   1500\n",
      "Number of attributes:         20\n",
      "Counting classes\n",
      "Number of used attributes:    19\n",
      "Attributes to split on:        4\n",
      "Sorting and ranking\n",
      "Growing forest\n",
      "        Tree #     1\n",
      "        Tree #     2\n",
      "        Tree #     3\n",
      "        Tree #     4\n",
      "        Tree #     5\n"
     ]
    }
   ],
   "source": [
    "%%bash\n",
    "./parf --verbose -t datasets/segment-challenge.arff -a datasets/segment-test.arff | head -15"
   ]
  },
  {
   "cell_type": "markdown",
   "metadata": {},
   "source": [
    "The dataset to be classified can have the same attribute specification as the one used to train the forest, or it can lack the class attribute and have same all the other attributes. If it is unlabeled, the output will show the classes for all the instances; if it is labeled, only the erroneously classified ones will be shown.\n",
    "\n",
    "In arguments where there is a file name, a dash `-` can be used to mean standard input or output. When the argument is optional, the dash can also be used. If an existing file name is specified for an output option, the file will be overwritten without warning.\n",
    "\n",
    "In arguments where there is an attribute name, the attribute name or number can be used. If an argument contains spaces, it must be enclosed in quotation marks. In contrast to ARFF files, the only valid separator between items within an option is a comma - surrounding spaces are ignored; in addition, the entire list must be cited, and not just the name of the individual. (Note that the quotes used here are analyzed by your shell, and not by the parf code, and have appropriate semantics for that). For example:"
   ]
  },
  {
   "cell_type": "code",
   "execution_count": 2,
   "metadata": {},
   "outputs": [
    {
     "name": "stdout",
     "output_type": "stream",
     "text": [
      "Trainset classification error is  52.80% of     214 (kappa: 0.1812 )\n"
     ]
    }
   ],
   "source": [
    "! ./parf -t datasets/glass.arff -fd \"glass forest.txt\" -c 10 -u 'RI, Type'"
   ]
  },
  {
   "cell_type": "markdown",
   "metadata": {},
   "source": [
    "where:\n",
    "\n",
    "    -t file       file to use as training set\n",
    "    -fd [file]    dump the forest as a text\n",
    "    -c class      the class attribute\n",
    "    -u(u) var,... comma-separated list of used or unused attributes"
   ]
  },
  {
   "cell_type": "code",
   "execution_count": 64,
   "metadata": {},
   "outputs": [
    {
     "name": "stdout",
     "output_type": "stream",
     "text": [
      "R (214): RI is 1.517335 or less?\n",
      "  Y (87): RI is 1.516785 or less?\n",
      "    Y (66): RI is 1.51549 or less?\n",
      "      Y (12): RI is 1.513075 or less?\n",
      "        Y (4): RI is 1.51123 or less?\n",
      "          Y (2): Type is [tableware].\n",
      "          N (2): RI is 1.51215 or less?\n",
      "            Y (1): Type is [headlamps].\n",
      "            N (1): Type is [tableware].\n",
      "        N (8): RI is 1.515225 or less?\n",
      "          Y (6): RI is 1.513625 or less?\n",
      "            Y (3): Type is [containers].\n",
      "            N (3): RI is 1.514615 or less?\n",
      "              Y (1): Type is [build wind non-float].\n",
      "              N (2): Type is [containers].\n"
     ]
    }
   ],
   "source": [
    "! head -n 15 \"glass forest.txt\""
   ]
  },
  {
   "cell_type": "markdown",
   "metadata": {},
   "source": [
    "# Forest Growth Options"
   ]
  },
  {
   "cell_type": "markdown",
   "metadata": {},
   "source": [
    "    -t file\n",
    "Deterermines which ARFF file to train from."
   ]
  },
  {
   "cell_type": "code",
   "execution_count": 10,
   "metadata": {},
   "outputs": [
    {
     "name": "stdout",
     "output_type": "stream",
     "text": [
      "Trainset classification error is  20.56% of     214 (kappa: 0.6812 )\n"
     ]
    }
   ],
   "source": [
    "! ./parf -t datasets/glass.arff"
   ]
  },
  {
   "cell_type": "markdown",
   "metadata": {},
   "source": [
    "    -tv [file]\n",
    "Outputs the training set out-of-bag votes."
   ]
  },
  {
   "cell_type": "code",
   "execution_count": 16,
   "metadata": {},
   "outputs": [
    {
     "name": "stdout",
     "output_type": "stream",
     "text": [
      "Trainset classification error is  21.03% of     214 (kappa: 0.6739 )\n",
      "         1     0.8293    0.1220    0.0488    0.0000    0.0000    0.0000    0.0000\n",
      "         2     0.3429    0.2857    0.3714    0.0000    0.0000    0.0000    0.0000\n",
      "         3     0.4595    0.4054    0.1351    0.0000    0.0000    0.0000    0.0000\n",
      "         4     0.0976    0.1951    0.0000    0.0000    0.0488    0.5610    0.0976\n",
      "         5     0.0714    0.8571    0.0238    0.0000    0.0476    0.0000    0.0000\n",
      "         6     0.1944    0.6111    0.1944    0.0000    0.0000    0.0000    0.0000\n",
      "         7     0.5676    0.0541    0.3514    0.0000    0.0000    0.0000    0.0270\n",
      "         8     0.6923    0.2308    0.0256    0.0000    0.0256    0.0256    0.0000\n",
      "         9     0.0286    0.0000    0.0571    0.0000    0.0000    0.0000    0.9143\n"
     ]
    }
   ],
   "source": [
    "%%bash\n",
    "./parf -t datasets/glass.arff -tv | head"
   ]
  },
  {
   "cell_type": "markdown",
   "metadata": {},
   "source": [
    "    -tc [file]\n",
    "Outputs the training set confusion matrix. Each row is one class as labeled in the file; each column is one class as classified by the program. \"NoTag\" row contains the rows with unknown class label (?); \"NotCl\" column contains the instances that could not be classified because they were taken into bootstrap for every single tree (and were thus never out-of-bag)."
   ]
  },
  {
   "cell_type": "code",
   "execution_count": 31,
   "metadata": {},
   "outputs": [
    {
     "name": "stdout",
     "output_type": "stream",
     "text": [
      "Trainset classification error is  21.50% of     214 (kappa: 0.6667 )\n",
      "Tag\\Cl NotCl build build vehic vehic conta table headl\n",
      " NoTag     0     0     0     0     0     0     0     0\n",
      " build     0    63     6     1     0     0     0     0\n",
      " build     0    10    59     2     0     2     2     1\n",
      " vehic     0    10     2     5     0     0     0     0\n",
      " vehic     0     0     0     0     0     0     0     0\n",
      " conta     0     0     4     0     0     8     0     1\n",
      " table     0     0     2     0     0     0     7     0\n",
      " headl     0     1     2     0     0     0     0    26\n"
     ]
    }
   ],
   "source": [
    "! ./parf -t datasets/glass.arff -tc"
   ]
  },
  {
   "cell_type": "markdown",
   "metadata": {},
   "source": [
    "    -c attribute\n",
    "Determines the attribute to be used as class attribute. Instead of the attribute number or name, special values last or new can be used. The former is the default, and takes the last attribute for the class attribute. The latter performs the \"unsupervised learning\", by creating a new attribute, with values { original, constructed }. The number of the instances will double; half of those will be the original data, while the second half will be constructed by permuting randomly each column of the original data."
   ]
  },
  {
   "cell_type": "code",
   "execution_count": 33,
   "metadata": {},
   "outputs": [
    {
     "name": "stdout",
     "output_type": "stream",
     "text": [
      "Trainset classification error is  22.90% of     214 (kappa: 0.6449 )\n"
     ]
    }
   ],
   "source": [
    "! ./parf -t datasets/glass.arff -c 10"
   ]
  },
  {
   "cell_type": "markdown",
   "metadata": {},
   "source": [
    "    -cp category\n",
    "Determines the category of the class attribute that will be considered positive. All other categories are considered negative. If not specified, no category shall be singled out as positive."
   ]
  },
  {
   "cell_type": "code",
   "execution_count": 34,
   "metadata": {},
   "outputs": [
    {
     "name": "stdout",
     "output_type": "stream",
     "text": [
      "Trainset classification error is  23.36% of     214 (kappa: 0.6377 )\n",
      "Trainset Precision:  0.7600; Recall:  0.6404; Specificity:  0.8560\n"
     ]
    }
   ],
   "source": [
    "! ./parf -t datasets/glass.arff -cp 2"
   ]
  },
  {
   "cell_type": "markdown",
   "metadata": {},
   "source": [
    "    -n num\n",
    "Determines the number of trees to grow. Currently the default is the very low value of 10, which is good for testing, but does not give statistically good results. For serious analyses, significantly more should be used. More trees — more accuracy."
   ]
  },
  {
   "cell_type": "code",
   "execution_count": 40,
   "metadata": {},
   "outputs": [
    {
     "name": "stdout",
     "output_type": "stream",
     "text": [
      "Trainset classification error is  24.30% of     214 (kappa: 0.6232 )\n"
     ]
    }
   ],
   "source": [
    "! ./parf -t datasets/glass.arff -n 20"
   ]
  },
  {
   "cell_type": "markdown",
   "metadata": {},
   "source": [
    "    -m num\n",
    "Determines the number of attributes to choose randomly at each node. The best node split is determined only on this subset of attributes. Some experimentation is required for each dataset to determine the best value of this parameter. The default is usually \"good enough\", and is defined as the square root of the number of used attributes."
   ]
  },
  {
   "cell_type": "code",
   "execution_count": 41,
   "metadata": {},
   "outputs": [
    {
     "name": "stdout",
     "output_type": "stream",
     "text": [
      "Trainset classification error is  22.43% of     214 (kappa: 0.6522 )\n"
     ]
    }
   ],
   "source": [
    "! ./parf -t datasets/glass.arff -m 4"
   ]
  },
  {
   "cell_type": "markdown",
   "metadata": {},
   "source": [
    "    -xs num[%]\n",
    "Determines the minimum number of instances that a node should have before being considered for splitting. A percentage is the percentage of all instances. The default is 2 — i.e. any node that can be split at all should be analysed for splitting."
   ]
  },
  {
   "cell_type": "code",
   "execution_count": 44,
   "metadata": {},
   "outputs": [
    {
     "name": "stdout",
     "output_type": "stream",
     "text": [
      "Trainset classification error is  64.95% of     214 (kappa: -.0072 )\n"
     ]
    }
   ],
   "source": [
    "! ./parf -t datasets/glass.arff -xs 66%"
   ]
  },
  {
   "cell_type": "markdown",
   "metadata": {},
   "source": [
    "    -xr ratio[%]\n",
    "Determines the minimum split ratio that is worth splitting for. If the node split is that unbalanced or more, the split will not happen. A percentage specifies a percentage of the instances in a node; if the percent sign is not used, then the number specifies a ratio (a number between 0 and 1). The default is 0 — any split that is not degenerate (0 : all) is worth it."
   ]
  },
  {
   "cell_type": "code",
   "execution_count": 45,
   "metadata": {},
   "outputs": [
    {
     "name": "stdout",
     "output_type": "stream",
     "text": [
      "Trainset classification error is  64.49% of     214 (kappa: 0.0000 )\n"
     ]
    }
   ],
   "source": [
    "! ./parf -t datasets/glass.arff -xr 66%"
   ]
  },
  {
   "cell_type": "markdown",
   "metadata": {},
   "source": [
    "    -b num\n",
    "Determines the number of categories that form a cutoff point between exhaustive and random category split search (\"big\" attributes). If the number of categories of an attribute is this or greater, then the random search will be performed, since the exhaustive search space is exponentially dependent on the number of categories. Default is 12, signifying that the exhaustive search will be performed only where 2048 or less combinations of categories are possible."
   ]
  },
  {
   "cell_type": "code",
   "execution_count": 46,
   "metadata": {},
   "outputs": [
    {
     "name": "stdout",
     "output_type": "stream",
     "text": [
      "Trainset classification error is  23.36% of     214 (kappa: 0.6377 )\n"
     ]
    }
   ],
   "source": [
    "! ./parf -t datasets/glass.arff -b 6"
   ]
  },
  {
   "cell_type": "markdown",
   "metadata": {},
   "source": [
    "    -bi num\n",
    "Determines the number of iterations for the random split search, where used."
   ]
  },
  {
   "cell_type": "code",
   "execution_count": 47,
   "metadata": {},
   "outputs": [
    {
     "name": "stdout",
     "output_type": "stream",
     "text": [
      "Trainset classification error is  23.83% of     214 (kappa: 0.6304 )\n"
     ]
    }
   ],
   "source": [
    "! ./parf -t datasets/glass.arff -bi 2"
   ]
  },
  {
   "cell_type": "markdown",
   "metadata": {},
   "source": [
    "    -u(u) attribute,...\n",
    "Lists the attributes that will be used (or unused) in this run. Overrides the @ignore specifier in the ARFF file. It is invalid to override string attributes as used. All attributes except @ignored are used by default before these options take effect, except when -u switch is employed without -uu, when the default is that no attributes will be used before the option takes effect. No spaces should be included in the argument."
   ]
  },
  {
   "cell_type": "code",
   "execution_count": 13,
   "metadata": {},
   "outputs": [
    {
     "name": "stdout",
     "output_type": "stream",
     "text": [
      "Trainset classification error is  24.77% of     214 (kappa: 0.6159 )\n"
     ]
    }
   ],
   "source": [
    "! ./parf -t datasets/glass.arff -u RI,Na,Mg,Al,Type"
   ]
  },
  {
   "cell_type": "markdown",
   "metadata": {},
   "source": [
    "    -w num,...\n",
    "Specifies the weight override. If this option is used, the program ignores the weights listed in the ARFF file, and uses these values instead. The number of weights must match the number of categories of the class attribute."
   ]
  },
  {
   "cell_type": "code",
   "execution_count": 48,
   "metadata": {},
   "outputs": [
    {
     "name": "stdout",
     "output_type": "stream",
     "text": [
      "Trainset classification error is  26.64% of     214 (kappa: 0.5870 )\n"
     ]
    }
   ],
   "source": [
    "! ./parf -t datasets/glass.arff -w 60,80,20,10,20,5,30"
   ]
  },
  {
   "cell_type": "markdown",
   "metadata": {},
   "source": [
    "    -r num\n",
    "Seeds the random number generator. If you run the program with the same input files and the same command line options, specifying the same seed, the results should be the same in each run. If this option is not specified, the random number generator is seeded randomly (by the system time), and the results are not repeatable."
   ]
  },
  {
   "cell_type": "code",
   "execution_count": 49,
   "metadata": {},
   "outputs": [
    {
     "name": "stdout",
     "output_type": "stream",
     "text": [
      "Trainset classification error is  21.03% of     214 (kappa: 0.6739 )\n"
     ]
    }
   ],
   "source": [
    "! ./parf -t datasets/glass.arff -r 1"
   ]
  },
  {
   "cell_type": "markdown",
   "metadata": {},
   "source": [
    "    -f num\n",
    "Specifies the number of passes for filling of missing values. If this value is 0, no missing values will be filled. Otherwise, in the first pass rough fills are calculated. Each subsequent pass obtains fills from proximity values. The default is 1, giving only the one rough fill pass."
   ]
  },
  {
   "cell_type": "code",
   "execution_count": 50,
   "metadata": {},
   "outputs": [
    {
     "name": "stdout",
     "output_type": "stream",
     "text": [
      "Trainset classification error is  22.43% of     214 (kappa: 0.6522 )\n"
     ]
    }
   ],
   "source": [
    "! ./parf -t datasets/glass.arff -f 0"
   ]
  },
  {
   "cell_type": "markdown",
   "metadata": {},
   "source": [
    "    -v num\n",
    "If this option is specified, after the forest has been generated (with all its missing value filling passes), all but num most important attributes will be ignored, and the forest will be generated again."
   ]
  },
  {
   "cell_type": "code",
   "execution_count": 51,
   "metadata": {},
   "outputs": [
    {
     "name": "stdout",
     "output_type": "stream",
     "text": [
      "Trainset classification error is  53.27% of     214 (kappa: 0.1739 )\n"
     ]
    }
   ],
   "source": [
    "! ./parf -t datasets/glass.arff -v 1"
   ]
  },
  {
   "cell_type": "markdown",
   "metadata": {},
   "source": [
    "    -mv num\n",
    "This option only makes sense if -v option is used as well, and works as the -m option in the second pass, with only the most important attributes retained. The default is the square root of the number of variables actually used in the second pass."
   ]
  },
  {
   "cell_type": "code",
   "execution_count": 52,
   "metadata": {},
   "outputs": [
    {
     "name": "stdout",
     "output_type": "stream",
     "text": [
      "Trainset classification error is  56.07% of     214 (kappa: 0.1304 )\n"
     ]
    }
   ],
   "source": [
    "! ./parf -t datasets/glass.arff -v 1 -mv 1"
   ]
  },
  {
   "cell_type": "markdown",
   "metadata": {},
   "source": [
    "# Additional Training Analysis Options"
   ]
  },
  {
   "cell_type": "markdown",
   "metadata": {},
   "source": [
    "    -p [num[%]]\n",
    "When calculating proximities (which is a prerequisite for some of the following calculations), specifies the number of closest instances to retain for each instance. Depending on the number of instances, the proximity matrix can become so large that the calculation cannot be completed. In such cases the value of this parameter should be reduced. The default is 100% of the instances. As many of the following calculations depend on the proximity matrix, this option does somewhat impact their accuracy; however, as the least proximate cases are dropped, the error thus introduced is not very large."
   ]
  },
  {
   "cell_type": "code",
   "execution_count": 53,
   "metadata": {},
   "outputs": [
    {
     "name": "stdout",
     "output_type": "stream",
     "text": [
      "Trainset classification error is  19.16% of     214 (kappa: 0.7029 )\n"
     ]
    }
   ],
   "source": [
    "! ./parf -t datasets/glass.arff -p 50%"
   ]
  },
  {
   "cell_type": "markdown",
   "metadata": {},
   "source": [
    "    -if [file]\n",
    "\n",
    "Requests the fast calculation of variable importances."
   ]
  },
  {
   "cell_type": "code",
   "execution_count": 1,
   "metadata": {},
   "outputs": [
    {
     "name": "stdout",
     "output_type": "stream",
     "text": [
      "Trainset classification error is  22.43% of     214 (kappa: 0.6522 )\n",
      " dGINI Tag\n",
      "  2.05 Al                            \n",
      "  2.02 Mg                            \n",
      "  1.69 Ba                            \n",
      "  1.07 RI                            \n",
      "  1.01 Ca                            \n",
      "  0.83 Na                            \n",
      "  0.72 K                             \n",
      "  0.41 Si                            \n",
      "  0.21 Fe                            \n"
     ]
    }
   ],
   "source": [
    "! ./parf -t datasets/glass.arff -if"
   ]
  },
  {
   "cell_type": "markdown",
   "metadata": {},
   "source": [
    "    -i [file]\n",
    "\n",
    "Requests the full calculation of variable importances."
   ]
  },
  {
   "cell_type": "code",
   "execution_count": 2,
   "metadata": {},
   "outputs": [
    {
     "name": "stdout",
     "output_type": "stream",
     "text": [
      "Trainset classification error is  21.96% of     214 (kappa: 0.6594 )\n",
      "  Imp   Z-Sc Significan Tag\n",
      " 11.66  16.80   0.000000 RI                            \n",
      " 15.57  16.48   0.000000 Mg                            \n",
      " 11.78  15.30   0.000000 Al                            \n",
      "  7.59  11.23   0.000000 Ca                            \n",
      "  6.56  10.81   0.000000 Ba                            \n",
      "  4.88   9.65   0.000000 K                             \n",
      "  4.97   8.90   0.000000 Na                            \n",
      "  3.55   8.60   0.000000 Si                            \n",
      "  0.61   3.66   0.000124 Fe                            \n"
     ]
    }
   ],
   "source": [
    "! ./parf -t datasets/glass.arff -i"
   ]
  },
  {
   "cell_type": "markdown",
   "metadata": {},
   "source": [
    "    -ic [file]\n",
    "\n",
    "Requests the calculation of case-by-case variable importances."
   ]
  },
  {
   "cell_type": "code",
   "execution_count": 15,
   "metadata": {},
   "outputs": [
    {
     "name": "stdout",
     "output_type": "stream",
     "text": [
      "Trainset classification error is  23.83% of     214 (kappa: 0.6304 )\n",
      "         1      0.14      0.09      0.17      0.13      0.08     -0.00      0.04     -0.09     -0.00     -0.71\n",
      "         2      0.14     -0.08      0.05      0.09     -0.05     -0.01      0.04     -0.17     -0.02     -0.72\n",
      "         3      0.09     -0.01      0.03     -0.05     -0.03     -0.01     -0.00     -0.17     -0.02     -0.87\n",
      "         4     -0.05      0.10      0.08      0.00      0.00      0.15     -0.06     -0.10     -0.01     -0.74\n",
      "         5      0.10      0.01      0.13      0.01      0.05      0.04      0.10     -0.17     -0.04     -0.88\n",
      "         6      0.05      0.01      0.04      0.04     -0.01     -0.00      0.04     -0.08      0.03     -0.65\n",
      "         7      0.01      0.01      0.02     -0.02     -0.00      0.04      0.03     -0.13     -0.05     -0.75\n",
      "         8     -0.00      0.02      0.06      0.05      0.01      0.05      0.05     -0.08     -0.02     -0.72\n",
      "         9      0.08      0.03      0.11      0.13     -0.00      0.02      0.07      0.11     -0.02     -0.75\n"
     ]
    }
   ],
   "source": [
    "%%bash\n",
    "./parf -t datasets/glass.arff -ic | head"
   ]
  },
  {
   "cell_type": "markdown",
   "metadata": {},
   "source": [
    "    -ii [file]\n",
    "\n",
    "Requests the calculation of variable interactions. Experimental."
   ]
  },
  {
   "cell_type": "code",
   "execution_count": 5,
   "metadata": {},
   "outputs": [
    {
     "name": "stdout",
     "output_type": "stream",
     "text": [
      "Trainset classification error is  20.09% of     214 (kappa: 0.6884 )\n",
      "       0     -37     -81       2      -2     -36     -83       4     -70       0\n",
      "     -37       0     -71     -76     -81     -14     -21      53      -2       0\n",
      "     -81     -71       0     -88     -39     -72     -92      -7     -19       0\n",
      "       2     -76     -88       0     -49     -76      -7     -12     -21       0\n",
      "      -2     -81     -39     -49       0     -58     -81     -13     -42       0\n",
      "     -36     -14     -72     -76     -58       0     -14     -42     -75       0\n",
      "     -83     -21     -92      -7     -81     -14       0       3     -39       0\n",
      "       4      53      -7     -12     -13     -42       3       0      35       0\n",
      "     -70      -2     -19     -21     -42     -75     -39      35       0       0\n",
      "       0       0       0       0       0       0       0       0       0       0\n"
     ]
    }
   ],
   "source": [
    "! ./parf -t datasets/glass.arff -ii"
   ]
  },
  {
   "cell_type": "markdown",
   "metadata": {},
   "source": [
    "    -y [file]\n",
    "\n",
    "Requests the calculation of class prototypes, and displays them in ARFF format (containing only the prototype centre)."
   ]
  },
  {
   "cell_type": "code",
   "execution_count": 6,
   "metadata": {},
   "outputs": [
    {
     "name": "stdout",
     "output_type": "stream",
     "text": [
      "Trainset classification error is  19.16% of     214 (kappa: 0.7029 )\n",
      "@relation Glass-proto\n",
      " \n",
      "@attribute RI numeric\n",
      "@attribute Na numeric\n",
      "@attribute Mg numeric\n",
      "@attribute Al numeric\n",
      "@attribute Si numeric\n",
      "@attribute K numeric\n",
      "@attribute Ca numeric\n",
      "@attribute Ba numeric\n",
      "@attribute Fe numeric\n",
      "@attribute Type { \"build wind float\", \"build wind non-float\", \"vehic wind float\", \"vehic wind non-float\", containers, tableware, headlamps }\n",
      " \n",
      "@data\n",
      "1.51784, 13.2, 3.57, 1.21, 72.79, 0.56, 8.7, 0, 0, \"build wind float\"\n",
      "1.5169, 13.2, 3.55, 1.48, 72.75, 0.6, 8.21, 0, 0, \"build wind non-float\"\n",
      "1.51776, 13.5, 3.54, 1.28, 72.65, 0.56, 8.79, 0, 0, \"vehic wind float\"\n",
      "1.51994, 12.97, 0, 1.76, 72.69, 0.58, 11.27, 0, 0, containers\n",
      "1.51888, 14.4, 1.74, 1.56, 72.74, 0, 9.57, 0, 0, tableware\n",
      "1.51651, 14.39, 0, 2.06, 73.11, 0, 8.67, 0.81, 0, headlamps\n"
     ]
    }
   ],
   "source": [
    "! ./parf -t datasets/glass.arff -y"
   ]
  },
  {
   "cell_type": "markdown",
   "metadata": {},
   "source": [
    "    -ya [file]\n",
    "\n",
    "Requests the calculation of class prototypes, and displays full prototype information."
   ]
  },
  {
   "cell_type": "code",
   "execution_count": 18,
   "metadata": {},
   "outputs": [
    {
     "name": "stdout",
     "output_type": "stream",
     "text": [
      "Trainset classification error is  23.36% of     214 (kappa: 0.6377 )\n",
      " Class: build wind float\n",
      "     Prototype #1 (65)\n",
      "         RI\n",
      "                     1.52      1.52      1.52\n",
      "                     0.26      0.29      0.53\n",
      "         Na\n",
      "                    12.84     13.20     13.58\n",
      "                     0.16      0.31      0.47\n",
      "         Mg\n",
      "                     3.48      3.58      3.66\n",
      "                     0.90      0.93      0.95\n",
      "         Al\n",
      "                     1.10      1.21      1.31\n",
      "                     0.23      0.30      0.36\n",
      "         Si\n",
      "                    72.02     72.79     73.01\n",
      "                     0.31      0.67      0.77\n",
      "         K\n",
      "                     0.19      0.56      0.59\n",
      "                     0.25      0.74      0.78\n",
      "         Ca\n",
      "                     8.44      8.70      9.07\n",
      "                     0.16      0.24      0.34\n",
      "         Ba\n",
      "                     0.00      0.00      0.00\n",
      "                     0.00      0.00      0.00\n",
      "         Fe\n",
      "                     0.00      0.00      0.10\n",
      "                     0.00      0.00      0.38\n",
      " Class: build wind non-float\n",
      "     Prototype #1 (58)\n",
      "         RI\n",
      "                     1.52      1.52      1.52\n",
      "                     0.10      0.16      0.32\n"
     ]
    }
   ],
   "source": [
    "%%bash\n",
    "./parf -t datasets/glass.arff -ya | head -35"
   ]
  },
  {
   "cell_type": "markdown",
   "metadata": {},
   "source": [
    "     -yn num\n",
    "\n",
    "Specifies the maximum number of prototypes to calculate for each class. The number of calculated prototypes may be smaller, if the calculated prototypes cover all the instances of the class in the dataset."
   ]
  },
  {
   "cell_type": "code",
   "execution_count": 19,
   "metadata": {},
   "outputs": [
    {
     "name": "stdout",
     "output_type": "stream",
     "text": [
      "Trainset classification error is  20.09% of     214 (kappa: 0.6884 )\n",
      " Class: build wind float\n",
      "     Prototype #1 (66)\n",
      "         RI\n",
      "                     1.52      1.52      1.52\n",
      "                     0.26      0.29      0.53\n",
      "         Na\n",
      "                    12.84     13.21     13.58\n",
      "                     0.16      0.32      0.47\n",
      "         Mg\n",
      "                     3.48      3.58      3.66\n",
      "                     0.90      0.93      0.95\n",
      "         Al\n",
      "                     1.10      1.23      1.32\n",
      "                     0.23      0.31      0.37\n",
      "         Si\n",
      "                    72.02     72.79     73.01\n",
      "                     0.31      0.67      0.77\n",
      "         K\n",
      "                     0.19      0.56      0.59\n",
      "                     0.25      0.74      0.78\n",
      "         Ca\n",
      "                     8.44      8.70      9.07\n",
      "                     0.16      0.24      0.34\n",
      "         Ba\n",
      "                     0.00      0.00      0.00\n",
      "                     0.00      0.00      0.00\n",
      "         Fe\n",
      "                     0.00      0.00      0.09\n",
      "                     0.00      0.00      0.35\n",
      "     Prototype #2 (4)\n",
      "         RI\n",
      "                     1.52      1.52      1.52\n",
      "                     0.03      0.05      0.05\n",
      "         Na\n"
     ]
    }
   ],
   "source": [
    "%%bash\n",
    "./parf -t datasets/glass.arff -yn 2 | head -35"
   ]
  },
  {
   "cell_type": "markdown",
   "metadata": {},
   "source": [
    "    -yp num[%]\n",
    "\n",
    "Specifies the number of instances to consider \"close\", for the purpose of deciding whether they are covered by a prototype. Must be less or equal to the value of the -p option. The default is 50% or the value of -p, whichever is smaller."
   ]
  },
  {
   "cell_type": "code",
   "execution_count": 14,
   "metadata": {},
   "outputs": [
    {
     "name": "stdout",
     "output_type": "stream",
     "text": [
      "Trainset classification error is  21.50% of     214 (kappa: 0.6667 )\n"
     ]
    },
    {
     "name": "stderr",
     "output_type": "stream",
     "text": [
      " Warning: Prototype search radius (-yp) cannot exceed the number of proximate in\n",
      " stances to be considered (-p).\n"
     ]
    }
   ],
   "source": [
    "%%bash\n",
    "./parf -t datasets/glass.arff -yp 10%"
   ]
  },
  {
   "cell_type": "markdown",
   "metadata": {},
   "source": [
    "    -s [num]\n",
    "\n",
    "Specifies the number of coordinates to scale to. The default is 2."
   ]
  },
  {
   "cell_type": "code",
   "execution_count": 20,
   "metadata": {},
   "outputs": [
    {
     "name": "stdout",
     "output_type": "stream",
     "text": [
      "Trainset classification error is  21.50% of     214 (kappa: 0.6667 )\n",
      "  Row# Coordinates...\n",
      "     1      0.221    -0.076     0.262     0.284\n",
      "     2      0.255     0.106     0.035     0.467\n",
      "     3      0.275    -0.011     0.195     0.276\n",
      "     4     -0.218    -0.156    -0.223    -0.091\n",
      "     5     -0.243    -0.584    -0.319     0.034\n",
      "     6      0.189     0.158    -0.183     0.033\n",
      "     7      0.152    -0.161     0.292    -0.038\n",
      "     8      0.188    -0.180     0.256     0.184\n"
     ]
    }
   ],
   "source": [
    "%%bash\n",
    "./parf -t datasets/glass.arff -s 4 | head"
   ]
  },
  {
   "cell_type": "markdown",
   "metadata": {},
   "source": [
    "    -sd [num]\n",
    "\n",
    "Specifies the limit to consecutive diverging iterations in scaling computation before giving up. The default is 10. If no argument is given, divergence is wholly disallowed (same as -sd 0)."
   ]
  },
  {
   "cell_type": "code",
   "execution_count": 20,
   "metadata": {},
   "outputs": [
    {
     "name": "stdout",
     "output_type": "stream",
     "text": [
      "Trainset classification error is  21.50% of     214 (kappa: 0.6667 )\n"
     ]
    }
   ],
   "source": [
    "! ./parf -t datasets/glass.arff -sd 2"
   ]
  },
  {
   "cell_type": "markdown",
   "metadata": {},
   "source": [
    "    -st [file]\n",
    "\n",
    "Requests the calculation of training set scaling data. Each instance will be projected into a lower-dimensional space, suitable for plotting."
   ]
  },
  {
   "cell_type": "code",
   "execution_count": 21,
   "metadata": {},
   "outputs": [
    {
     "name": "stdout",
     "output_type": "stream",
     "text": [
      "Trainset classification error is  24.77% of     214 (kappa: 0.6159 )\n",
      "  Row# Coordinates...\n",
      "     1      0.130     0.253\n",
      "     2      0.267     0.000\n",
      "     3      0.170     0.169\n",
      "     4     -0.154    -0.229\n",
      "     5     -0.768    -0.154\n",
      "     6      0.213    -0.078\n",
      "     7     -0.109     0.353\n",
      "     8      0.020     0.189\n"
     ]
    }
   ],
   "source": [
    "%%bash\n",
    "./parf -t datasets/glass.arff -st | head"
   ]
  },
  {
   "cell_type": "markdown",
   "metadata": {},
   "source": [
    "    -sa [file]\n",
    "\n",
    "Requests the calculation of classified set scaling data. Each instance will be projected into a lower-dimensional space, suitable for plotting."
   ]
  },
  {
   "cell_type": "code",
   "execution_count": 22,
   "metadata": {},
   "outputs": [
    {
     "name": "stdout",
     "output_type": "stream",
     "text": [
      "Trainset classification error is  18.69% of     214 (kappa: 0.7101 )\n",
      "  Row# Coordinates...\n",
      "     1      0.240    -0.071\n",
      "     2      0.449     0.485\n",
      "     3      0.244     0.011\n",
      "     4     -0.241     0.022\n",
      "     5     -0.181    -0.174\n",
      "     6      0.145     0.338\n",
      "     7      0.176    -0.259\n",
      "     8      0.172    -0.162\n"
     ]
    }
   ],
   "source": [
    "%%bash\n",
    "./parf -t datasets/glass.arff -st | head"
   ]
  },
  {
   "cell_type": "markdown",
   "metadata": {},
   "source": [
    "    -o num\n",
    "\n",
    "Specifies the outlier cutoff value; only the instances with outlier measure above or equal to this value will be displayed in the outlier output. By default, all instances are outputted."
   ]
  },
  {
   "cell_type": "code",
   "execution_count": 27,
   "metadata": {},
   "outputs": [
    {
     "name": "stdout",
     "output_type": "stream",
     "text": [
      "Trainset classification error is  19.63% of     214 (kappa: 0.6957 )\n"
     ]
    }
   ],
   "source": [
    "%%bash\n",
    "./parf -t datasets/glass.arff -o 2"
   ]
  },
  {
   "cell_type": "markdown",
   "metadata": {},
   "source": [
    "    -ot [file]\n",
    "\n",
    "Requests the calculation of outlier measure in the training set."
   ]
  },
  {
   "cell_type": "code",
   "execution_count": 24,
   "metadata": {},
   "outputs": [
    {
     "name": "stdout",
     "output_type": "stream",
     "text": [
      "Trainset classification error is  23.36% of     214 (kappa: 0.6377 )\n",
      "    Median  Deviation Tag\n",
      " 0.3720E+01  0.2495E+01 build wind float              \n",
      " 0.1510E+01  0.7857E+00 build wind non-float          \n",
      " 0.1200E+01  0.1513E+01 vehic wind float              \n",
      "        NaN    Infinity vehic wind non-float          \n",
      " 0.1640E+00    Infinity containers                    \n",
      " 0.9303E-01    Infinity tableware                     \n",
      " 0.8135E+00    Infinity headlamps                     \n",
      "  Row#    Outlier Tagged as\n",
      "   208    62.5443 build wind float              \n",
      "   171    10.8472 build wind non-float          \n",
      "    14     3.9072 vehic wind float              \n",
      "   172     3.8390 build wind non-float          \n",
      "   111     2.9186 build wind non-float          \n"
     ]
    }
   ],
   "source": [
    "%%bash\n",
    "./parf -t datasets/glass.arff -ot | head -15"
   ]
  },
  {
   "cell_type": "markdown",
   "metadata": {},
   "source": [
    "    -oa [file]\n",
    "\n",
    "Requests the calculation of outlier measure in the classified set."
   ]
  },
  {
   "cell_type": "code",
   "execution_count": 30,
   "metadata": {},
   "outputs": [
    {
     "name": "stdout",
     "output_type": "stream",
     "text": [
      "Trainset classification error is  20.09% of     214 (kappa: 0.6884 )\n"
     ]
    }
   ],
   "source": [
    "%%bash\n",
    "./parf -t datasets/glass.arff -oa"
   ]
  },
  {
   "cell_type": "markdown",
   "metadata": {},
   "source": [
    "# Dataset Classification Options"
   ]
  },
  {
   "cell_type": "markdown",
   "metadata": {},
   "source": [
    "    -a file\n",
    "\n",
    "Deterermines which ARFF file to classify."
   ]
  },
  {
   "cell_type": "code",
   "execution_count": 3,
   "metadata": {},
   "outputs": [
    {
     "name": "stdout",
     "output_type": "stream",
     "text": [
      "Trainset classification error is   2.13% of    1500 (kappa: 0.9747 )\n",
      " Testset classification error is   2.59% of     810 (kappa: 0.9692 )\n"
     ]
    }
   ],
   "source": [
    "! ./parf -t datasets/segment-challenge.arff -a datasets/segment-test.arff"
   ]
  },
  {
   "cell_type": "code",
   "execution_count": 7,
   "metadata": {},
   "outputs": [
    {
     "name": "stdout",
     "output_type": "stream",
     "text": [
      "Trainset classification error is   2.48% of   28626 (kappa: 0.0301 )\n",
      "\n",
      "real\t0m5,495s\n",
      "user\t0m3,209s\n",
      "sys\t0m0,095s\n"
     ]
    }
   ],
   "source": [
    "! time ./parf -t datasets/volcanoes-on-venus-c1.arff"
   ]
  },
  {
   "cell_type": "code",
   "execution_count": 6,
   "metadata": {},
   "outputs": [
    {
     "name": "stdout",
     "output_type": "stream",
     "text": [
      "Error accessing file datasets/huggs-training.arff\n",
      " Error reading datasets/huggs-training.arff: cannot open file\n",
      "\n",
      "real\t0m1,829s\n",
      "user\t0m0,013s\n",
      "sys\t0m0,037s\n"
     ]
    }
   ],
   "source": [
    "! time ./parf -t datasets/higgs-training.arff -a datasets/higgs-test.arff"
   ]
  },
  {
   "cell_type": "markdown",
   "metadata": {},
   "source": [
    "    -av [file]\n",
    "\n",
    "Outputs the classification set votes."
   ]
  },
  {
   "cell_type": "code",
   "execution_count": 25,
   "metadata": {},
   "outputs": [
    {
     "name": "stdout",
     "output_type": "stream",
     "text": [
      "Trainset classification error is   2.67% of    1500 (kappa: 0.9684 )\n",
      " Testset classification error is   2.59% of     810 (kappa: 0.9692 )\n",
      "         1     1.0000    0.0000    0.0000   92.0000    1.0000    6.0000    0.0000\n",
      "         2     0.0000    0.0000    0.0000    2.0000    0.0000   98.0000    0.0000\n",
      "         3     0.0000    0.0000    0.0000    0.0000    0.0000    1.0000   99.0000\n",
      "         4     0.0000    0.0000    0.0000    0.0000    0.0000    0.0000  100.0000\n",
      "         5     0.0000    0.0000    0.0000    0.0000  100.0000    0.0000    0.0000\n",
      "         6     0.0000    0.0000   62.0000    0.0000   38.0000    0.0000    0.0000\n",
      "         7    95.0000    0.0000    3.0000    2.0000    0.0000    0.0000    0.0000\n",
      "         8     0.0000    0.0000    0.0000    2.0000    0.0000   98.0000    0.0000\n"
     ]
    }
   ],
   "source": [
    "%%bash\n",
    "./parf -t datasets/segment-challenge.arff -a datasets/segment-test.arff -av | head"
   ]
  },
  {
   "cell_type": "markdown",
   "metadata": {},
   "source": [
    "    -ar [file]\n",
    "\n",
    "Depending on whether the classification set is labeled or not, this option outputs either the misclassified instances, or the results of the classification for all instances."
   ]
  },
  {
   "cell_type": "code",
   "execution_count": 41,
   "metadata": {},
   "outputs": [
    {
     "name": "stdout",
     "output_type": "stream",
     "text": [
      "Trainset classification error is   2.47% of    1500 (kappa: 0.9707 )\n",
      "       Row Classified as                 Tagged as                     Certain\n",
      "       120 foliage                       window                         76.00%\n",
      "       128 brickface                     cement                         66.00%\n",
      "       136 brickface                     window                         48.00%\n",
      "       176 cement                        window                         62.00%\n",
      "       179 window                        cement                         51.00%\n",
      "       216 cement                        grass                          39.00%\n",
      "       266 cement                        window                         68.00%\n",
      "       316 foliage                       window                         73.00%\n",
      "       322 foliage                       window                         69.00%\n",
      "       433 brickface                     foliage                        44.00%\n",
      "       442 cement                        grass                          32.00%\n",
      "       461 foliage                       window                         84.00%\n",
      "       536 window                        foliage                        38.00%\n",
      "       555 foliage                       window                         64.00%\n",
      "       570 cement                        grass                          31.00%\n",
      "       589 window                        foliage                        71.00%\n",
      "       597 brickface                     foliage                        52.00%\n",
      "       624 brickface                     foliage                        40.00%\n",
      "       721 foliage                       window                         53.00%\n",
      "       748 window                        brickface                      40.00%\n",
      " Testset classification error is   2.47% of     810 (kappa: 0.9707 )\n"
     ]
    }
   ],
   "source": [
    "%%bash\n",
    "./parf -t datasets/segment-challenge.arff -a datasets/segment-test.arff -ar"
   ]
  },
  {
   "cell_type": "markdown",
   "metadata": {},
   "source": [
    "    -ac [file]\n",
    "\n",
    "Outputs the classification set confusion matrix. Each row is one class as labeled in the file; each column is one class as classified by the program. \"NoTag\" row contains the rows with unknown class label (?). The \"NotCl\" column is always zero, and is left for compatibility with -tc option output."
   ]
  },
  {
   "cell_type": "code",
   "execution_count": 43,
   "metadata": {},
   "outputs": [
    {
     "name": "stdout",
     "output_type": "stream",
     "text": [
      "Trainset classification error is   2.47% of    1500 (kappa: 0.9707 )\n",
      " Testset classification error is   3.09% of     810 (kappa: 0.9634 )\n",
      "Tag\\Cl NotCl brick   sky folia cemen windo  path grass\n",
      " NoTag     0     0     0     0     0     0     0     0\n",
      " brick     0   124     0     0     0     1     0     0\n",
      " sky       0     0   110     0     0     0     0     0\n",
      " folia     0     2     0   117     1     2     0     0\n",
      " cemen     0     1     0     0   105     4     0     0\n",
      " windo     0     1     0     8     2   115     0     0\n",
      " path      0     0     0     0     0     0    94     0\n",
      " grass     0     0     0     1     2     0     0   120\n"
     ]
    }
   ],
   "source": [
    "%%bash\n",
    "./parf -t datasets/segment-challenge.arff -a datasets/segment-test.arff -ac"
   ]
  },
  {
   "cell_type": "code",
   "execution_count": 4,
   "metadata": {},
   "outputs": [
    {
     "name": "stdout",
     "output_type": "stream",
     "text": [
      "Trainset classification error is   2.13% of    1500 (kappa: 0.9747 )\n",
      " Testset classification error is   2.72% of     810 (kappa: 0.9678 )\n",
      "Tag\\Cl NotCl brick   sky folia cemen windo  path grass\n",
      " NoTag     0     0     0     0     0     0     0     0\n",
      " brick     0   124     0     0     0     1     0     0\n",
      " sky       0     0   110     0     0     0     0     0\n",
      " folia     0     3     0   117     0     2     0     0\n",
      " cemen     0     1     0     0   107     2     0     0\n",
      " windo     0     1     0     7     2   116     0     0\n",
      " path      0     0     0     0     0     0    94     0\n",
      " grass     0     1     0     1     1     0     0   120\n"
     ]
    }
   ],
   "source": [
    "%%bash\n",
    "./parf -t datasets/segment-challenge.arff -a datasets/segment-test.arff -ac -r 1"
   ]
  },
  {
   "cell_type": "markdown",
   "metadata": {},
   "source": [
    "    -aa [file]\n",
    "\n",
    "Outputs the classified set in the ARFF format."
   ]
  },
  {
   "cell_type": "code",
   "execution_count": 27,
   "metadata": {},
   "outputs": [
    {
     "name": "stdout",
     "output_type": "stream",
     "text": [
      "Trainset classification error is   2.27% of    1500 (kappa: 0.9731 )\n",
      " Testset classification error is   2.72% of     810 (kappa: 0.9678 )\n",
      "@relation segment\n",
      " \n",
      "@attribute region-centroid-col numeric\n",
      "@attribute region-centroid-row numeric\n",
      "@attribute region-pixel-count numeric\n",
      "@attribute short-line-density-5 numeric\n",
      "@attribute short-line-density-2 numeric\n",
      "@attribute vedge-mean numeric\n",
      "@attribute vegde-sd numeric\n",
      "@attribute hedge-mean numeric\n",
      "@attribute hedge-sd numeric\n",
      "@attribute intensity-mean numeric\n",
      "@attribute rawred-mean numeric\n",
      "@attribute rawblue-mean numeric\n",
      "@attribute rawgreen-mean numeric\n",
      "@attribute exred-mean numeric\n",
      "@attribute exblue-mean numeric\n",
      "@attribute exgreen-mean numeric\n",
      "@attribute value-mean numeric\n",
      "@attribute saturation-mean numeric\n",
      "@attribute hue-mean numeric\n",
      "@attribute class { brickface, sky, foliage, cement, window, path, grass }\n",
      " \n",
      "@data\n",
      "144, 35, 9, 0, 0, 2.33333, 2.03306, 2.05556, 1.73098, 37.5926, 32.3333, 47.4444, 33, -15.7778, 29.5556, -13.7778, 47.4444, 0.319714, -2.13876, cement\n",
      "118, 180, 9, 0, 0, 1.94444, 1.48199, 3.11111, 1.08866, 48.5556, 44.1111, 59, 42.5556, -13.3333, 31.3333, -18, 59, 0.278822, -1.99604, path\n",
      "6, 174, 9, 0, 0, 1.88889, 1.00741, 2.88889, 4.02963, 19.0741, 15.1111, 17.7778, 24.3333, -11.8889, -3.88889, 15.7778, 24.3333, 0.381867, 2.39502, grass\n",
      "152, 220, 9, 0, 0, 0.944445, 0.685185, 1.44444, 2.16296, 14.6296, 11.5556, 13.1111, 19.2222, -9.22222, -4.55556, 13.7778, 19.2222, 0.416705, 2.30688, grass\n"
     ]
    }
   ],
   "source": [
    "%%bash\n",
    "./parf -t datasets/segment-challenge.arff -a datasets/segment-test.arff -aa | head -30"
   ]
  },
  {
   "cell_type": "markdown",
   "metadata": {},
   "source": [
    "    -ta [file]\n",
    "\n",
    "Outputs the combined training set and classified set in the ARFF format."
   ]
  },
  {
   "cell_type": "code",
   "execution_count": 28,
   "metadata": {},
   "outputs": [
    {
     "name": "stdout",
     "output_type": "stream",
     "text": [
      "Trainset classification error is   2.73% of    1500 (kappa: 0.9676 )\n",
      " Testset classification error is   2.59% of     810 (kappa: 0.9692 )\n",
      "@relation segment\n",
      " \n",
      "@attribute region-centroid-col numeric\n",
      "@attribute region-centroid-row numeric\n",
      "@attribute region-pixel-count numeric\n",
      "@attribute short-line-density-5 numeric\n",
      "@attribute short-line-density-2 numeric\n",
      "@attribute vedge-mean numeric\n",
      "@attribute vegde-sd numeric\n",
      "@attribute hedge-mean numeric\n",
      "@attribute hedge-sd numeric\n",
      "@attribute intensity-mean numeric\n",
      "@attribute rawred-mean numeric\n",
      "@attribute rawblue-mean numeric\n",
      "@attribute rawgreen-mean numeric\n",
      "@attribute exred-mean numeric\n",
      "@attribute exblue-mean numeric\n",
      "@attribute exgreen-mean numeric\n",
      "@attribute value-mean numeric\n",
      "@attribute saturation-mean numeric\n",
      "@attribute hue-mean numeric\n",
      "@attribute class { brickface, sky, foliage, cement, window, path, grass }\n",
      " \n",
      "@data\n",
      "38, 189, 9, 0, 0, 1, 0.222222, 6.22222, 33.3185, 29.0741, 26.3333, 35.2222, 25.6667, -8.22222, 18.4444, -10.2222, 35.2222, 0.271208, -2.04915, path\n",
      "25, 199, 9, 0, 0, 1.11111, 0.607407, 1.05556, 0.462963, 17.5185, 13.1111, 17.8889, 21.5556, -13.2222, 1.11111, 12.1111, 21.5556, 0.393002, 2.69011, grass\n",
      "49, 139, 9, 0, 0, 0.166667, 7.7777997E-02, 0.333333, 8.8889003E-02, 0.444444, 0, 1.33333, 0, -1.33333, 2.66667, -1.33333, 1.33333, 0.777778, -2.0944, foliage\n",
      "63, 220, 9, 0, 0, 3.05556, 15.263, 3.66667, 6.08889, 8.18519, 6.55556, 6.44444, 11.5556, -4.88889, -5.22222, 10.1111, 11.5556, 0.486717, 2.09315, grass\n"
     ]
    }
   ],
   "source": [
    "%%bash\n",
    "./parf -t datasets/segment-challenge.arff -a datasets/segment-test.arff -ta | head -30"
   ]
  },
  {
   "cell_type": "markdown",
   "metadata": {},
   "source": [
    "# Forest Handling Options"
   ]
  },
  {
   "cell_type": "markdown",
   "metadata": {},
   "source": [
    "    -fs prefix\n",
    "\n",
    "Saves the forest for future classification run. A forest is saved in multiple files, with a common prefix."
   ]
  },
  {
   "cell_type": "code",
   "execution_count": 51,
   "metadata": {},
   "outputs": [
    {
     "name": "stdout",
     "output_type": "stream",
     "text": [
      "Trainset classification error is   2.27% of    1500 (kappa: 0.9731 )\n",
      " Testset classification error is   2.96% of     810 (kappa: 0.9648 )\n"
     ]
    }
   ],
   "source": [
    "%%bash\n",
    "./parf -t datasets/segment-challenge.arff -a datasets/segment-test.arff -fs test"
   ]
  },
  {
   "cell_type": "code",
   "execution_count": 52,
   "metadata": {},
   "outputs": [
    {
     "name": "stdout",
     "output_type": "stream",
     "text": [
      "test.001.tree  test.022.tree  test.043.tree  test.064.tree  test.085.tree\n",
      "test.002.tree  test.023.tree  test.044.tree  test.065.tree  test.086.tree\n",
      "test.003.tree  test.024.tree  test.045.tree  test.066.tree  test.087.tree\n",
      "test.004.tree  test.025.tree  test.046.tree  test.067.tree  test.088.tree\n",
      "test.005.tree  test.026.tree  test.047.tree  test.068.tree  test.089.tree\n",
      "test.006.tree  test.027.tree  test.048.tree  test.069.tree  test.090.tree\n",
      "test.007.tree  test.028.tree  test.049.tree  test.070.tree  test.091.tree\n",
      "test.008.tree  test.029.tree  test.050.tree  test.071.tree  test.092.tree\n",
      "test.009.tree  test.030.tree  test.051.tree  test.072.tree  test.093.tree\n",
      "test.010.tree  test.031.tree  test.052.tree  test.073.tree  test.094.tree\n",
      "test.011.tree  test.032.tree  test.053.tree  test.074.tree  test.095.tree\n",
      "test.012.tree  test.033.tree  test.054.tree  test.075.tree  test.096.tree\n",
      "test.013.tree  test.034.tree  test.055.tree  test.076.tree  test.097.tree\n",
      "test.014.tree  test.035.tree  test.056.tree  test.077.tree  test.098.tree\n",
      "test.015.tree  test.036.tree  test.057.tree  test.078.tree  test.099.tree\n",
      "test.016.tree  test.037.tree  test.058.tree  test.079.tree  test.100.tree\n",
      "test.017.tree  test.038.tree  test.059.tree  test.080.tree  test.forest\n",
      "test.018.tree  test.039.tree  test.060.tree  test.081.tree\n",
      "test.019.tree  test.040.tree  test.061.tree  test.082.tree\n",
      "test.020.tree  test.041.tree  test.062.tree  test.083.tree\n",
      "test.021.tree  test.042.tree  test.063.tree  test.084.tree\n"
     ]
    }
   ],
   "source": [
    "! ls test*"
   ]
  },
  {
   "cell_type": "markdown",
   "metadata": {},
   "source": [
    "    -fl prefix\n",
    "\n",
    "Loads a forest for classification run. None of the forest growth options, as well as the training analysis options except for the proximity, outlier and scaling ones, are available. Note that all the files generated by the -fs option must be present at the same location, denoted by the prefix."
   ]
  },
  {
   "cell_type": "code",
   "execution_count": 53,
   "metadata": {},
   "outputs": [
    {
     "name": "stdout",
     "output_type": "stream",
     "text": [
      " Testset classification error is   2.96% of     810 (kappa: 0.9648 )\n"
     ]
    }
   ],
   "source": [
    "%%bash\n",
    "./parf -a datasets/segment-test.arff -fl test"
   ]
  },
  {
   "cell_type": "markdown",
   "metadata": {},
   "source": [
    "    -fd [file]\n",
    "\n",
    "Dumps the forest in a human-readable format."
   ]
  },
  {
   "cell_type": "code",
   "execution_count": 56,
   "metadata": {},
   "outputs": [
    {
     "name": "stdout",
     "output_type": "stream",
     "text": [
      " Testset classification error is   2.96% of     810 (kappa: 0.9648 )\n",
      "R (1500): hue-mean is 0.6435 or less?\n",
      "  Y (1293): region-centroid-row is 160.5 or less?\n",
      "    Y (1047): hedge-mean is 0.4444 or less?\n",
      "      Y (174): exred-mean is 1.0556 or less?\n",
      "        Y (161): intensity-mean is 80.7409 or less?\n",
      "          Y (151): exred-mean is -5.1667 or less?\n",
      "            Y (38): value-mean is 50.4445 or less?\n",
      "              Y (36): class is [window].\n",
      "              N (2): class is [cement].\n",
      "            N (113): exgreen-mean is -3.5 or less?\n",
      "              Y (25): exred-mean is -3.9444 or less?\n",
      "                Y (5): hue-mean is -2.0958 or less?\n",
      "                  Y (1): class is [foliage].\n",
      "                  N (4): class is [window].\n",
      "                N (20): class is [window].\n"
     ]
    }
   ],
   "source": [
    "%%bash\n",
    "./parf -a datasets/segment-test.arff -fl test -fd output.txt\n",
    "head -n 15 output.txt"
   ]
  },
  {
   "cell_type": "markdown",
   "metadata": {},
   "source": [
    "# Options for gnuplot"
   ]
  },
  {
   "cell_type": "markdown",
   "metadata": {},
   "source": [
    "    -g [file]\n",
    "\n",
    "Generates a gnuplot script. The output of several other options is modified for gnuplot data file format compatibility (notably: -i, -if, -ic, -ii and -s). The resulting script can be given as an argument to gnuplot, or loaded from gnuplot's command line with its load command. If the terminal (see -gt) is set to generate files (e.g. -gt png), then the easiest way is to pipe the script into gnuplot. The image files will have the same names as the respective data files, with an appropriate extension; if the data files were not saved into files, the images will have default names. Note: if there are any 3D plots included, do not use the piping method. The gnuplot 4.0 (the current version at the time of development) has a bug, because of which gnuplot does not correctly parse the 3D data from the standard input.\n",
    "\n",
    "    -gt terminal\n",
    "\n",
    "Specifies a terminal for gnuplot output. See gnuplot's set terminal command for details. If no terminal is selected, multi-window x11 is used, with a pause at the end.\n",
    "\n",
    "More examples of gnuplot use can be found in the [GnuPlotUsage.md](https://github.com/efurlanm/ml/blob/master/docs/GnuPlotUsage.md)."
   ]
  },
  {
   "cell_type": "markdown",
   "metadata": {},
   "source": [
    "# MPI"
   ]
  },
  {
   "cell_type": "markdown",
   "metadata": {},
   "source": [
    "According to https://software.intel.com/content/www/us/en/develop/articles/improve-performance-and-stability-with-intel-mpi-library-on-infiniband.html , it is necessary include `export UCX_TLS=rc,ud,sm,self`"
   ]
  },
  {
   "cell_type": "code",
   "execution_count": 7,
   "metadata": {},
   "outputs": [
    {
     "name": "stdout",
     "output_type": "stream",
     "text": [
      "Seed:   -132228645\n",
      "Loading and distributing training set\n",
      "Number of training cases:    214\n",
      "Number of attributes:         10\n",
      "Counting classes\n",
      "Number of used attributes:     9\n",
      "Attributes to split on:        3\n",
      "Sorting and ranking\n",
      "Growing forest\n",
      "        Tree #     1 on     0\n",
      "        Tree #    18 on     1\n",
      "        Tree #    34 on     2\n",
      "        Tree #    84 on     5\n",
      "        Tree #    51 on     3\n",
      "        Tree #    68 on     4\n",
      "        Tree #     2 on     0\n",
      "        Tree #    35 on     2\n",
      "        Tree #    19 on     1\n",
      "        Tree #    52 on     3\n",
      "        Tree #    85 on     5\n",
      "        Tree #    69 on     4\n",
      "        Tree #     3 on     0\n",
      "        Tree #    36 on     2\n",
      "        Tree #    20 on     1\n",
      "        Tree #    53 on     3\n",
      "        Tree #    86 on     5\n",
      "        Tree #    70 on     4\n",
      "        Tree #     4 on     0\n",
      "        Tree #    21 on     1\n",
      "        Tree #    37 on     2\n",
      "        Tree #    87 on     5\n",
      "        Tree #    54 on     3\n",
      "        Tree #    71 on     4\n",
      "        Tree #     5 on     0\n",
      "        Tree #    38 on     2\n",
      "        Tree #    22 on     1\n",
      "        Tree #    55 on     3\n",
      "        Tree #    88 on     5\n",
      "        Tree #     6 on     0\n",
      "        Tree #    72 on     4\n",
      "        Tree #    23 on     1\n",
      "        Tree #    39 on     2\n",
      "        Tree #    56 on     3\n",
      "        Tree #    89 on     5\n",
      "        Tree #     7 on     0\n",
      "        Tree #    40 on     2\n",
      "        Tree #    24 on     1\n",
      "        Tree #    73 on     4\n",
      "        Tree #    57 on     3\n",
      "        Tree #     8 on     0\n",
      "        Tree #    41 on     2\n",
      "        Tree #    90 on     5\n",
      "        Tree #    25 on     1\n",
      "        Tree #    74 on     4\n",
      "        Tree #     9 on     0\n",
      "        Tree #    42 on     2\n",
      "        Tree #    58 on     3\n",
      "        Tree #    91 on     5\n",
      "        Tree #    75 on     4\n",
      "        Tree #    26 on     1\n",
      "        Tree #    59 on     3\n",
      "        Tree #    43 on     2\n",
      "        Tree #    10 on     0\n",
      "        Tree #    27 on     1\n",
      "        Tree #    92 on     5\n",
      "        Tree #    76 on     4\n",
      "        Tree #    60 on     3\n",
      "        Tree #    44 on     2\n",
      "        Tree #    11 on     0\n",
      "        Tree #    28 on     1\n",
      "        Tree #    93 on     5\n",
      "        Tree #    77 on     4\n",
      "        Tree #    61 on     3\n",
      "        Tree #    45 on     2\n",
      "        Tree #    12 on     0\n",
      "        Tree #    29 on     1\n",
      "        Tree #    94 on     5\n",
      "        Tree #    78 on     4\n",
      "        Tree #    62 on     3\n",
      "        Tree #    46 on     2\n",
      "        Tree #    30 on     1\n",
      "        Tree #    95 on     5\n",
      "        Tree #    13 on     0\n",
      "        Tree #    79 on     4\n",
      "        Tree #    63 on     3\n",
      "        Tree #    47 on     2\n",
      "        Tree #    31 on     1\n",
      "        Tree #    96 on     5\n",
      "        Tree #    14 on     0\n",
      "        Tree #    64 on     3\n",
      "        Tree #    80 on     4\n",
      "        Tree #    32 on     1\n",
      "        Tree #    48 on     2\n",
      "        Tree #    97 on     5\n",
      "        Tree #    15 on     0\n",
      "        Tree #    65 on     3\n",
      "        Tree #    81 on     4\n",
      "        Tree #    33 on     1\n",
      "        Tree #    98 on     5\n",
      "        Tree #    49 on     2\n",
      "        Tree #    66 on     3\n",
      "        Tree #    16 on     0\n",
      "        Tree #    82 on     4\n",
      "        Tree #    99 on     5\n",
      "        Tree #    50 on     2\n",
      "        Tree #    67 on     3\n",
      "        Tree #    17 on     0\n",
      "        Tree #   100 on     5\n",
      "        Tree #    83 on     4\n",
      "Trainset classification error is  21.03% of     214 (kappa: 0.6739 )\n",
      "Finalizing\n",
      "Finished\n"
     ]
    }
   ],
   "source": [
    "%%bash\n",
    "#export UCX_TLS=ud,sm,self\n",
    "export UCX_TLS=rc,ud,sm,self\n",
    "mpirun -n 6 ./parf --verbose -t datasets/glass.arff"
   ]
  }
 ],
 "metadata": {
  "kernelspec": {
   "display_name": "Python 3",
   "language": "python",
   "name": "python3"
  },
  "language_info": {
   "codemirror_mode": {
    "name": "ipython",
    "version": 3
   },
   "file_extension": ".py",
   "mimetype": "text/x-python",
   "name": "python",
   "nbconvert_exporter": "python",
   "pygments_lexer": "ipython3",
   "version": "3.8.5"
  }
 },
 "nbformat": 4,
 "nbformat_minor": 4
}
