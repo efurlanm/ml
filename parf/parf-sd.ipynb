{
 "cells": [
  {
   "cell_type": "markdown",
   "metadata": {},
   "source": [
    "# PARF - SDumont\n",
    "\n",
    "Parallel Random Forest (RF) Algorithm, MPI-enabled, implemented in Fortran, CLI, linkage with gnuplot is also provided\n",
    "\n",
    "Source: https://www.irb.hr/eng/Scientific-Support-Centres/Centre-for-Informatics-and-Computing/Projects2/IT-projects/PARF\n",
    "\n",
    "Last revision: 2021-05-11\n",
    "\n",
    "Compilind and running on SDumont, using Intel Fortran, and with the `module load intel_psxe/2020` preloaded."
   ]
  },
  {
   "cell_type": "code",
   "execution_count": 6,
   "metadata": {},
   "outputs": [
    {
     "name": "stdout",
     "output_type": "stream",
     "text": [
      "ifort (IFORT) 19.1.2.254 20200623\n",
      "Copyright (C) 1985-2020 Intel Corporation.  All rights reserved.\n",
      "\n",
      "ifort (IFORT) 19.1.2.254 20200623\n",
      "Copyright (C) 1985-2020 Intel Corporation.  All rights reserved.\n",
      "\n",
      "Intel(R) MPI Library for Linux* OS, Version 2019 Update 8 Build 20200624 (id: 4f16ad915)\n",
      "Copyright 2003-2020, Intel Corporation.\n",
      "icc (ICC) 19.1.2.254 20200623\n",
      "Copyright (C) 1985-2020 Intel Corporation.  All rights reserved.\n",
      "\n"
     ]
    }
   ],
   "source": [
    "%%bash\n",
    "ifort --version\n",
    "mpiifort --version\n",
    "mpirun --version\n",
    "icc --version"
   ]
  },
  {
   "cell_type": "markdown",
   "metadata": {},
   "source": [
    "Get PARF"
   ]
  },
  {
   "cell_type": "code",
   "execution_count": 1,
   "metadata": {},
   "outputs": [
    {
     "name": "stdout",
     "output_type": "stream",
     "text": [
      "--2021-05-10 21:40:33--  https://storage.googleapis.com/google-code-archive-downloads/v2/code.google.com/parf/parf_2008-09-30.tgz\n",
      "Resolving storage.googleapis.com (storage.googleapis.com)... 172.217.30.16, 142.250.79.48, 142.250.79.240, ...\n",
      "Connecting to storage.googleapis.com (storage.googleapis.com)|172.217.30.16|:443... connected.\n",
      "HTTP request sent, awaiting response... 200 OK\n",
      "Length: 49983 (49K) [application/octet-stream]\n",
      "Saving to: ‘parf_2008-09-30.tgz’\n",
      "\n",
      "100%[======================================>] 49,983      --.-K/s   in 0.02s   \n",
      "\n",
      "2021-05-10 21:40:33 (3.17 MB/s) - ‘parf_2008-09-30.tgz’ saved [49983/49983]\n",
      "\n"
     ]
    }
   ],
   "source": [
    "! wget https://storage.googleapis.com/google-code-archive-downloads/v2/code.google.com/parf/parf_2008-09-30.tgz"
   ]
  },
  {
   "cell_type": "markdown",
   "metadata": {},
   "source": [
    "Unpacking"
   ]
  },
  {
   "cell_type": "code",
   "execution_count": 2,
   "metadata": {},
   "outputs": [
    {
     "name": "stdout",
     "output_type": "stream",
     "text": [
      "parf/Makefile\n",
      "parf/bitvectors.f90\n",
      "parf/bootstraps.f90\n",
      "parf/forests.f90\n",
      "parf/graphics.f90\n",
      "parf/importances.f90\n",
      "parf/instancesets.f90\n",
      "parf/main.f90\n",
      "parf/options.f90\n",
      "parf/prototypes.f90\n",
      "parf/trees.f90\n",
      "parf/utilities.f90\n",
      "parf/support.c\n",
      "parf/farg/\n",
      "parf/farg/farg.f\n",
      "parf/parallel/\n",
      "parf/parallel/none.f90\n",
      "parf/parallel/mpi.f90\n",
      "parf/merge.pl\n",
      "parf/splitrows.pl\n",
      "parf/splitset.pl\n",
      "parf/LICENSE\n"
     ]
    }
   ],
   "source": [
    "! tar zxvf parf_2008-09-30.tgz"
   ]
  },
  {
   "cell_type": "markdown",
   "metadata": {},
   "source": [
    "Configure Makefile"
   ]
  },
  {
   "cell_type": "code",
   "execution_count": 3,
   "metadata": {},
   "outputs": [
    {
     "name": "stdout",
     "output_type": "stream",
     "text": [
      "Overwriting parf/Makefile\n"
     ]
    }
   ],
   "source": [
    "%%writefile parf/Makefile\n",
    "##### Configuration section\n",
    "\n",
    "### Choose a Fortran 90 compiler and options\n",
    "# FC = /opt/intel_fc_80/bin/ifort\n",
    "# FFLAGS = -g -pg -CB -traceback --static\n",
    "FC = ifort\n",
    "FFLAGS = -O3\n",
    "\n",
    "### Choose a C compiler and options\n",
    "# CC = cc\n",
    "# CFLAGS = -Wall -g -pg --static\n",
    "CC = icc\n",
    "CFLAGS = -O3\n",
    "\n",
    "### Choose parallelisation library, comment for no parallelisation\n",
    "PAR = mpi\n",
    "\n",
    "### For MPI: the MPI Fortran compilation command\n",
    "# MPIFC = mpif90\n",
    "MPIFC = mpiifort\n",
    "\n",
    "##### End of configuration section\n",
    "# \n",
    "# No changes should be necessary below this line\n",
    "# ---------------------------------------------------------------------\n",
    "\n",
    "PAR ?= none\n",
    "ifeq (${PAR},mpi)\n",
    "\tFC = ${MPIFC}\n",
    "endif\n",
    "MODSOURCES=trees.f90 bitvectors.f90 instancesets.f90 options.f90 \\\n",
    "\tutilities.f90 bootstraps.f90 forests.f90 importances.f90 \\\n",
    "\tprototypes.f90 graphics.f90\n",
    "CSOURCES=support.c\n",
    "COBJECTS=${CSOURCES:.c=.o}\n",
    "MODOBJECTS=${MODSOURCES:.f90=.o}\n",
    "ADDOBJECTS=${ADDSOURCES:.f=.o}\n",
    "PROJECT=parf\n",
    "DIR=$(notdir ${PWD})\n",
    "\n",
    "${PROJECT}: main.f90 parallel.o ${MODOBJECTS} ${ADDOBJECTS} ${COBJECTS}\n",
    "\t${FC} ${FFLAGS} -o ${PROJECT} $+\n",
    "\n",
    "parallel.o: parallel/${PAR}.f90\n",
    "\t${FC} ${FFLAGS} -c -o parallel.o $<\n",
    "\n",
    "%.o: %.f90\n",
    "\t${FC} ${FFLAGS} -c $<\n",
    "\n",
    "%.o: %.c\n",
    "\t${CC} ${CFLAGS} -c $<\n",
    "\n",
    "main.o: Makefile options.o instancesets.o utilities.o forests.o \\\n",
    "\timportances.o prototypes.o parallel.o\n",
    "forests.o: Makefile trees.o instancesets.o bootstraps.o bitvectors.o \\\n",
    "\timportances.o prototypes.o\n",
    "trees.o: Makefile bitvectors.o instancesets.o bootstraps.o utilities.o\n",
    "instancesets.o: Makefile utilities.o bitvectors.o \\\n",
    "\toptions.o parallel.o support.o\n",
    "importances.o: Makefile instancesets.o graphics.o\n",
    "bitvectors.o: Makefile utilities.o\n",
    "utilities.o: Makefile support.o\n",
    "options.o: Makefile support.o utilities.o parallel.o\n",
    "#compatibility.o: Makefile\n",
    "parallel.o: Makefile\n",
    "bootstraps.o: Makefile instancesets.o utilities.o\n",
    "prototypes.o: Makefile instancesets.o utilities.o options.o\n",
    "graphics.o: Makefile utilities.o options.o\n",
    "support.o: Makefile\n",
    "\n",
    "clean:\n",
    "\trm -f *.mod *.o ${PROJECT} gmon.out\n",
    "\n",
    "#dist:\n",
    "#\trm -f ${PROJECT}.tgz\n",
    "#\tcd .. && \\\n",
    "#\t\ttar zcf ${DIR}/${PROJECT}.tgz ${DIR}/Makefile \\\n",
    "#\t\t${DIR}/*.f90 ${DIR}/*.c ${DIR}/farg ${DIR}/parallel \\\n",
    "#\t\t${DIR}/*.pl ${DIR}/LICENSE\n",
    "\n",
    ".PHONY: clean dist"
   ]
  },
  {
   "cell_type": "markdown",
   "metadata": {},
   "source": [
    "Compiling"
   ]
  },
  {
   "cell_type": "code",
   "execution_count": 8,
   "metadata": {},
   "outputs": [
    {
     "name": "stdout",
     "output_type": "stream",
     "text": [
      "mpiifort -O3 -c -o parallel.o parallel/mpi.f90\n",
      "icc -O3 -c support.c\n",
      "mpiifort -O3 -c utilities.f90\n",
      "mpiifort -O3 -c bitvectors.f90\n",
      "mpiifort -O3 -c options.f90\n",
      "mpiifort -O3 -c instancesets.f90\n",
      "mpiifort -O3 -c bootstraps.f90\n",
      "mpiifort -O3 -c trees.f90\n",
      "mpiifort -O3 -c graphics.f90\n",
      "mpiifort -O3 -c importances.f90\n",
      "mpiifort -O3 -c prototypes.f90\n",
      "mpiifort -O3 -c forests.f90\n",
      "mpiifort -O3 -o parf main.f90 parallel.o trees.o bitvectors.o instancesets.o options.o utilities.o bootstraps.o forests.o importances.o prototypes.o graphics.o support.o\n"
     ]
    },
    {
     "name": "stderr",
     "output_type": "stream",
     "text": [
      "forests.f90(994): remark #8291: Recommended relationship between field width 'W' and the number of fractional digits 'D' in this edit descriptor is 'W>=D+7'.\n",
      "      WRITE(handle, '(E10.4, 1X, E10.4, 1X, A30)'), med, dev, &\n",
      "-----------------------^\n",
      "forests.f90(994): remark #8291: Recommended relationship between field width 'W' and the number of fractional digits 'D' in this edit descriptor is 'W>=D+7'.\n",
      "      WRITE(handle, '(E10.4, 1X, E10.4, 1X, A30)'), med, dev, &\n",
      "----------------------------------^\n"
     ]
    }
   ],
   "source": [
    "%%bash\n",
    "cd parf\n",
    "make"
   ]
  },
  {
   "cell_type": "code",
   "execution_count": 9,
   "metadata": {},
   "outputs": [
    {
     "name": "stdout",
     "output_type": "stream",
     "text": [
      "\tlinux-vdso.so.1 =>  (0x00007ffc5f9a9000)\n",
      "\tlibmpifort.so.12 => /opt/intel/parallel_studio_xe_2020/compilers_and_libraries_2020.2.254/linux/mpi/intel64/lib/libmpifort.so.12 (0x00007fec3704b000)\n",
      "\tlibmpi.so.12 => /opt/intel/parallel_studio_xe_2020/compilers_and_libraries_2020.2.254/linux/mpi/intel64/lib/release/libmpi.so.12 (0x00007fec35e2f000)\n",
      "\tlibdl.so.2 => /usr/lib64/libdl.so.2 (0x00007fec35c2b000)\n",
      "\tlibrt.so.1 => /usr/lib64/librt.so.1 (0x00007fec35a23000)\n",
      "\tlibpthread.so.0 => /usr/lib64/libpthread.so.0 (0x00007fec35807000)\n",
      "\tlibm.so.6 => /usr/lib64/libm.so.6 (0x00007fec35505000)\n",
      "\tlibc.so.6 => /usr/lib64/libc.so.6 (0x00007fec35138000)\n",
      "\tlibgcc_s.so.1 => /usr/lib64/libgcc_s.so.1 (0x00007fec34f22000)\n",
      "\tlibfabric.so.1 => /opt/intel/parallel_studio_xe_2020/compilers_and_libraries_2020.2.254/linux/mpi/intel64/libfabric/lib/libfabric.so.1 (0x00007fec34ce0000)\n",
      "\t/lib64/ld-linux-x86-64.so.2 (0x00007fec3740a000)\n"
     ]
    }
   ],
   "source": [
    "! ldd parf/parf"
   ]
  },
  {
   "cell_type": "markdown",
   "metadata": {},
   "source": [
    "Check run"
   ]
  },
  {
   "cell_type": "code",
   "execution_count": 11,
   "metadata": {},
   "outputs": [
    {
     "name": "stdout",
     "output_type": "stream",
     "text": [
      "PARF (C) 2005 Rudjer Boskovic Institute\n",
      "Goran Topic, Tomislav Smuc; algorithm by Leo Breiman and Adele Cutler\n",
      "Licensed under GNU GPL 2.0\n",
      " \n",
      "Usage: rf [OPTION...]\n",
      "-h | --help   show this message\n",
      "-t file       file to use as training set\n",
      "-a file       file to analyse and classify\n",
      "-tv [file]    training set votes output file\n",
      "-tc [file]    training set confusion matrix output file\n",
      "-av [file]    test set votes output file\n",
      "-ac [file]    test set confusion matrix output file\n",
      "-ar [file]    test set classification results output file\n",
      "-aa [file]    test set ARFF output file\n",
      "-ta [file]    train + test set ARFF output file\n",
      "-c class      the class attribute, or NEW, or LAST (default)\n",
      "-cq [n[%]]    quantity of generated class instances (only with -c NEW)\n",
      "-cp category  positive category\n",
      "-n trees      the number of trees to grow\n",
      "-f n          the fill method: 0=none, 1=rough, 2+=# of passes\n",
      "-v n          redo the forest with n most important variables\n",
      "-vs n         redo the forest with variables more significant than n\n",
      "-p [n[%]]     number of proximate cases to take into consideration\n",
      "-st [file]    training set scaling output file\n",
      "-sa [file]    test set scaling output file\n",
      "-sy [file]    prototype scaling output file\n",
      "-s n          number of scaling coordinates (default 2)\n",
      "-sd [n]       max allowed divergent iterations in scaling calculation\n",
      "-y [file]     prototypes output file\n",
      "-ya [file]    detailed prototypes analysis output file\n",
      "-yn n         number of prototypes per class (if available)\n",
      "-yp n         number of proximates to look at for prototypes\n",
      "-m mvar       the number of variables to split on\n",
      "-mv mvar      the number of split variables with most important variables\n",
      "-xs size[%]   the minimum node size to split\n",
      "-xr ratio[%]  the split cutoff ratio limit (0-1)\n",
      "-b categories the number of categories that use the fast split algorithm\n",
      "-bi iters     the number of fast split iterations per category\n",
      "-u(u) var,... comma-separated list of used or unused attributes\n",
      "-ri var       row identifier variable\n",
      "-r seed       random number generator seed\n",
      "-fd [file]    dump the forest as a text\n",
      "-fs file      save the forest\n",
      "-fl file      load the forest\n",
      "-i [file]     variable importances output file\n",
      "-ic [file]    case-by-case variable importances output file\n",
      "-ii [file]    variable interaction output file\n",
      "-if [file]    fast variable importances output file\n",
      "-ot [file]    training set outlier measure output file\n",
      "-oa [file]    testing set outlier measure output file\n",
      "-w wt,...     class weight override\n",
      "-g [file]     generate gnuplot graphics script\n",
      "-gt type      gnuplot graphics terminal type\n",
      "--verbose     print what is done\n"
     ]
    }
   ],
   "source": [
    "! parf/parf"
   ]
  },
  {
   "cell_type": "markdown",
   "metadata": {},
   "source": [
    "Get example dataset"
   ]
  },
  {
   "cell_type": "code",
   "execution_count": 14,
   "metadata": {},
   "outputs": [
    {
     "name": "stderr",
     "output_type": "stream",
     "text": [
      "--2021-05-10 21:56:23--  https://raw.githubusercontent.com/efurlanm/ml/master/datasets/glass.arff\n",
      "Resolving raw.githubusercontent.com (raw.githubusercontent.com)... 185.199.111.133, 185.199.109.133, 185.199.108.133, ...\n",
      "Connecting to raw.githubusercontent.com (raw.githubusercontent.com)|185.199.111.133|:443... connected.\n",
      "HTTP request sent, awaiting response... 200 OK\n",
      "Length: 17850 (17K) [text/plain]\n",
      "Saving to: ‘glass.arff’\n",
      "\n",
      "     0K .......... .......                                    100% 66.5M=0s\n",
      "\n",
      "2021-05-10 21:56:23 (66.5 MB/s) - ‘glass.arff’ saved [17850/17850]\n",
      "\n"
     ]
    }
   ],
   "source": [
    "%%bash\n",
    "mkdir datasets\n",
    "cd datasets\n",
    "wget https://raw.githubusercontent.com/efurlanm/ml/master/datasets/glass.arff"
   ]
  },
  {
   "cell_type": "code",
   "execution_count": 17,
   "metadata": {},
   "outputs": [
    {
     "name": "stdout",
     "output_type": "stream",
     "text": [
      "datasets/glass.arff\n"
     ]
    }
   ],
   "source": [
    "! ls datasets/glass.arff"
   ]
  },
  {
   "cell_type": "markdown",
   "metadata": {},
   "source": [
    "To train a forest in an example dataset (glass.arff), where -t file is the file to use as training set:"
   ]
  },
  {
   "cell_type": "code",
   "execution_count": 18,
   "metadata": {},
   "outputs": [
    {
     "name": "stdout",
     "output_type": "stream",
     "text": [
      "Seed:   1753208397\n",
      "Loading training set\n",
      "Number of training cases:    214\n",
      "Number of attributes:         10\n",
      "Counting classes\n",
      "Number of used attributes:     9\n",
      "Attributes to split on:        3\n",
      "Sorting and ranking\n",
      "Growing forest\n",
      "        Tree #     1\n",
      "        Tree #     2\n",
      "        Tree #     3\n",
      "        Tree #     4\n",
      "        Tree #     5\n",
      "        Tree #     6\n"
     ]
    }
   ],
   "source": [
    "%%bash\n",
    "parf/parf --verbose -t datasets/glass.arff > output.txt\n",
    "head -n 15 output.txt"
   ]
  },
  {
   "cell_type": "markdown",
   "metadata": {},
   "source": [
    "Check MPI"
   ]
  },
  {
   "cell_type": "markdown",
   "metadata": {},
   "source": [
    "https://www.osc.edu/supercomputing/batch-processing-at-osc/slurm_migration/slurm_migration_issues\n",
    "* unset I_MPI_PMI_LIBRARY \n",
    "* export I_MPI_JOB_RESPECT_PROCESS_PLACEMENT=0"
   ]
  },
  {
   "cell_type": "code",
   "execution_count": 31,
   "metadata": {},
   "outputs": [
    {
     "name": "stdout",
     "output_type": "stream",
     "text": [
      "Seed:  -2014858288\n",
      "Loading training set\n",
      "Number of training cases:    214\n",
      "Number of attributes:         10\n",
      "Counting classes\n",
      "Number of used attributes:     9\n",
      "Attributes to split on:        3\n",
      "Sorting and ranking\n",
      "Growing forest\n",
      "        Tree #     1\n",
      "        Tree #     2\n",
      "        Tree #     3\n",
      "        Tree #     4\n",
      "        Tree #     5\n",
      "        Tree #     6\n",
      "        Tree #     7\n",
      "        Tree #     8\n",
      "        Tree #     9\n",
      "        Tree #    10\n",
      "        Tree #    11\n",
      "        Tree #    12\n",
      "        Tree #    13\n",
      "        Tree #    14\n",
      "        Tree #    15\n",
      "        Tree #    16\n",
      "        Tree #    17\n",
      "        Tree #    18\n",
      "        Tree #    19\n",
      "        Tree #    20\n",
      "        Tree #    21\n",
      "        Tree #    22\n",
      "        Tree #    23\n",
      "        Tree #    24\n",
      "        Tree #    25\n",
      "        Tree #    26\n",
      "        Tree #    27\n",
      "        Tree #    28\n",
      "        Tree #    29\n",
      "        Tree #    30\n",
      "        Tree #    31\n",
      "        Tree #    32\n",
      "        Tree #    33\n",
      "        Tree #    34\n",
      "        Tree #    35\n",
      "        Tree #    36\n",
      "        Tree #    37\n",
      "        Tree #    38\n",
      "        Tree #    39\n",
      "        Tree #    40\n",
      "        Tree #    41\n",
      "        Tree #    42\n",
      "        Tree #    43\n",
      "        Tree #    44\n",
      "        Tree #    45\n",
      "        Tree #    46\n",
      "        Tree #    47\n",
      "        Tree #    48\n",
      "        Tree #    49\n",
      "        Tree #    50\n",
      "        Tree #    51\n",
      "        Tree #    52\n",
      "        Tree #    53\n",
      "        Tree #    54\n",
      "        Tree #    55\n",
      "        Tree #    56\n",
      "        Tree #    57\n",
      "        Tree #    58\n",
      "        Tree #    59\n",
      "        Tree #    60\n",
      "        Tree #    61\n",
      "        Tree #    62\n",
      "        Tree #    63\n",
      "        Tree #    64\n",
      "        Tree #    65\n",
      "        Tree #    66\n",
      "        Tree #    67\n",
      "        Tree #    68\n",
      "        Tree #    69\n",
      "        Tree #    70\n",
      "        Tree #    71\n",
      "        Tree #    72\n",
      "        Tree #    73\n",
      "        Tree #    74\n",
      "        Tree #    75\n",
      "        Tree #    76\n",
      "        Tree #    77\n",
      "        Tree #    78\n",
      "        Tree #    79\n",
      "        Tree #    80\n",
      "        Tree #    81\n",
      "        Tree #    82\n",
      "        Tree #    83\n",
      "        Tree #    84\n",
      "        Tree #    85\n",
      "        Tree #    86\n",
      "        Tree #    87\n",
      "        Tree #    88\n",
      "        Tree #    89\n",
      "        Tree #    90\n",
      "        Tree #    91\n",
      "        Tree #    92\n",
      "        Tree #    93\n",
      "        Tree #    94\n",
      "        Tree #    95\n",
      "        Tree #    96\n",
      "        Tree #    97\n",
      "        Tree #    98\n",
      "        Tree #    99\n",
      "        Tree #   100\n",
      "Trainset classification error is  20.09% of     214 (kappa: 0.6884 )\n",
      "810 ms ± 0 ns per loop (mean ± std. dev. of 1 run, 1 loop each)\n"
     ]
    }
   ],
   "source": [
    "%%timeit -n 1 -r 1\n",
    "! unset I_MPI_PMI_LIBRARY ; export I_MPI_JOB_RESPECT_PROCESS_PLACEMENT=0 ; mpirun -np 1 parf/parf --verbose -t datasets/glass.arff"
   ]
  },
  {
   "cell_type": "code",
   "execution_count": 29,
   "metadata": {},
   "outputs": [
    {
     "name": "stdout",
     "output_type": "stream",
     "text": [
      "Seed:  -2058490808\n",
      "Loading and distributing training set\n",
      "        Tree #    17 on     1\n",
      "        Tree #    33 on     2\n",
      "        Tree #    50 on     3\n",
      "        Tree #    67 on     4\n",
      "        Tree #    84 on     5\n",
      "Number of training cases:    214\n",
      "Number of attributes:         10\n",
      "Counting classes\n",
      "Number of used attributes:     9\n",
      "Attributes to split on:        3\n",
      "Sorting and ranking\n",
      "        Tree #    18 on     1\n",
      "        Tree #    68 on     4\n",
      "        Tree #    34 on     2\n",
      "        Tree #    85 on     5\n",
      "        Tree #    51 on     3\n",
      "Growing forest\n",
      "        Tree #     1 on     0\n",
      "        Tree #    19 on     1\n",
      "        Tree #    35 on     2\n",
      "        Tree #    52 on     3\n",
      "        Tree #    69 on     4\n",
      "        Tree #    86 on     5\n",
      "        Tree #     2 on     0\n",
      "        Tree #    20 on     1\n",
      "        Tree #    36 on     2\n",
      "        Tree #    87 on     5\n",
      "        Tree #    53 on     3\n",
      "        Tree #    70 on     4\n",
      "        Tree #     3 on     0\n",
      "        Tree #    21 on     1\n",
      "        Tree #    37 on     2\n",
      "        Tree #    71 on     4\n",
      "        Tree #    54 on     3\n",
      "        Tree #    88 on     5\n",
      "        Tree #     4 on     0\n",
      "        Tree #    22 on     1\n",
      "        Tree #    38 on     2\n",
      "        Tree #    55 on     3\n",
      "        Tree #    72 on     4\n",
      "        Tree #    89 on     5\n",
      "        Tree #     5 on     0\n",
      "        Tree #    39 on     2\n",
      "        Tree #    56 on     3\n",
      "        Tree #    23 on     1\n",
      "        Tree #    73 on     4\n",
      "        Tree #    90 on     5\n",
      "        Tree #     6 on     0\n",
      "        Tree #    57 on     3\n",
      "        Tree #    74 on     4\n",
      "        Tree #    40 on     2\n",
      "        Tree #    24 on     1\n",
      "        Tree #    91 on     5\n",
      "        Tree #     7 on     0\n",
      "        Tree #    41 on     2\n",
      "        Tree #    58 on     3\n",
      "        Tree #    75 on     4\n",
      "        Tree #    92 on     5\n",
      "        Tree #    25 on     1\n",
      "        Tree #     8 on     0\n",
      "        Tree #    76 on     4\n",
      "        Tree #    42 on     2\n",
      "        Tree #    59 on     3\n",
      "        Tree #    93 on     5\n",
      "        Tree #    26 on     1\n",
      "        Tree #     9 on     0\n",
      "        Tree #    77 on     4\n",
      "        Tree #    43 on     2\n",
      "        Tree #    60 on     3\n",
      "        Tree #    94 on     5\n",
      "        Tree #    27 on     1\n",
      "        Tree #    10 on     0\n",
      "        Tree #    78 on     4\n",
      "        Tree #    44 on     2\n",
      "        Tree #    61 on     3\n",
      "        Tree #    95 on     5\n",
      "        Tree #    28 on     1\n",
      "        Tree #    11 on     0\n",
      "        Tree #    29 on     1\n",
      "        Tree #    45 on     2\n",
      "        Tree #    62 on     3\n",
      "        Tree #    79 on     4\n",
      "        Tree #    96 on     5\n",
      "        Tree #    12 on     0\n",
      "        Tree #    63 on     3\n",
      "        Tree #    80 on     4\n",
      "        Tree #    97 on     5\n",
      "        Tree #    30 on     1\n",
      "        Tree #    46 on     2\n",
      "        Tree #    13 on     0\n",
      "        Tree #    81 on     4\n",
      "        Tree #    64 on     3\n",
      "        Tree #    31 on     1\n",
      "        Tree #    98 on     5\n",
      "        Tree #    47 on     2\n",
      "        Tree #    14 on     0\n",
      "        Tree #    32 on     1\n",
      "        Tree #    82 on     4\n",
      "        Tree #    48 on     2\n",
      "        Tree #    65 on     3\n",
      "        Tree #    99 on     5\n",
      "        Tree #    15 on     0\n",
      "        Tree #    83 on     4\n",
      "        Tree #   100 on     5\n",
      "        Tree #    66 on     3\n",
      "        Tree #    49 on     2\n",
      "        Tree #    16 on     0\n",
      "Trainset classification error is  22.90% of     214 (kappa: 0.6449 )\n",
      "Finalizing\n",
      "Finished\n",
      "2.81 s ± 0 ns per loop (mean ± std. dev. of 1 run, 1 loop each)\n"
     ]
    }
   ],
   "source": [
    "%%timeit -n 1 -r 1\n",
    "! unset I_MPI_PMI_LIBRARY ; export I_MPI_JOB_RESPECT_PROCESS_PLACEMENT=0 ; mpirun -np 6 parf/parf --verbose -t datasets/glass.arff"
   ]
  },
  {
   "cell_type": "code",
   "execution_count": null,
   "metadata": {},
   "outputs": [],
   "source": []
  }
 ],
 "metadata": {
  "kernelspec": {
   "display_name": "Python 3",
   "language": "python",
   "name": "python3"
  },
  "language_info": {
   "codemirror_mode": {
    "name": "ipython",
    "version": 3
   },
   "file_extension": ".py",
   "mimetype": "text/x-python",
   "name": "python",
   "nbconvert_exporter": "python",
   "pygments_lexer": "ipython3",
   "version": "3.8.8"
  }
 },
 "nbformat": 4,
 "nbformat_minor": 4
}
